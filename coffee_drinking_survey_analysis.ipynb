{
 "cells": [
  {
   "cell_type": "code",
   "execution_count": 7,
   "metadata": {},
   "outputs": [],
   "source": [
    "# standard\n",
    "import pandas as pd\n",
    "import numpy as np\n",
    "import random\n",
    "import os\n",
    "\n",
    "# tf and keras\n",
    "# import tensorflow as tf\n",
    "# from keras import models\n",
    "# from keras import layers\n",
    "\n",
    "# # sklearn\n",
    "# from sklearn.metrics import accuracy_score\n",
    "# from sklearn.metrics import confusion_matrix, ConfusionMatrixDisplay\n",
    "# from sklearn.metrics import classification_report, roc_auc_score, RocCurveDisplay\n",
    "# from sklearn.model_selection import train_test_split, GridSearchCV\n",
    "# from sklearn.preprocessing import StandardScaler\n",
    "# from sklearn.linear_model import LogisticRegression\n",
    "# from sklearn.ensemble import RandomForestClassifier\n",
    "# from xgboost import XGBClassifier\n",
    "\n",
    "# plots\n",
    "import seaborn as sns\n",
    "import matplotlib.pyplot as plt\n",
    "\n",
    "# To ignore warnings\n",
    "import warnings\n",
    "warnings.filterwarnings('ignore')"
   ]
  },
  {
   "cell_type": "code",
   "execution_count": 78,
   "metadata": {},
   "outputs": [
    {
     "data": {
      "text/html": [
       "<div>\n",
       "<style scoped>\n",
       "    .dataframe tbody tr th:only-of-type {\n",
       "        vertical-align: middle;\n",
       "    }\n",
       "\n",
       "    .dataframe tbody tr th {\n",
       "        vertical-align: top;\n",
       "    }\n",
       "\n",
       "    .dataframe thead th {\n",
       "        text-align: right;\n",
       "    }\n",
       "</style>\n",
       "<table border=\"1\" class=\"dataframe\">\n",
       "  <thead>\n",
       "    <tr style=\"text-align: right;\">\n",
       "      <th></th>\n",
       "      <th>Timestamp</th>\n",
       "      <th>Name</th>\n",
       "      <th>Email</th>\n",
       "      <th>Do you drink at least one cup of coffee 4 times a week?</th>\n",
       "      <th>What time did you wake up this morning?</th>\n",
       "      <th>What time did you drink your coffee?\\n\\n- A) On day 1 you need to drink coffee 20 minutes after waking up.\\n\\n- B) On day 2 you need to drink coffee 2 hours after waking up.\\n\\nIf you skipped this time interval, please don't submit the form.</th>\n",
       "      <th>How many hours has it been since you woke up?\\n\\nFor testing accuracy, please complete this survey 6 hours after waking up. \\n\\nIf you're filling it out earlier or later than 6 hours after waking up, that's okay—just be honest in your response 😉.</th>\n",
       "      <th>How awake do you feel right now? (scale 1-5)</th>\n",
       "      <th>How difficult was it to focus on tasks today?  (scale 1-5)</th>\n",
       "      <th>How physically tired do you feel right now?   (scale 1-5)</th>\n",
       "      <th>How much coffee did you drink today?</th>\n",
       "      <th>Did you notice any differences in your alertness today compared to yesterday? (Open-ended)</th>\n",
       "      <th>Any additional comments about your experience with drinking coffee at this time? (Open-ended)</th>\n",
       "    </tr>\n",
       "  </thead>\n",
       "  <tbody>\n",
       "    <tr>\n",
       "      <th>0</th>\n",
       "      <td>3/2/2025 1:09:36</td>\n",
       "      <td>ISHTIAQUE M</td>\n",
       "      <td>IM332@CORNELL.EDU</td>\n",
       "      <td>Yes</td>\n",
       "      <td>7:00:00 AM</td>\n",
       "      <td>8:00:00 AM</td>\n",
       "      <td>5.85</td>\n",
       "      <td>4 = Mostly awake (can focus on most tasks)</td>\n",
       "      <td>4 = Easy (can focus with little effort)</td>\n",
       "      <td>4 = Slightly tired (little fatigue, feel mostl...</td>\n",
       "      <td>NaN</td>\n",
       "      <td>NaN</td>\n",
       "      <td>NaN</td>\n",
       "    </tr>\n",
       "    <tr>\n",
       "      <th>1</th>\n",
       "      <td>3/2/2025 9:33:20</td>\n",
       "      <td>amit bhattacharyya</td>\n",
       "      <td>aabtzu@berkeley.edu</td>\n",
       "      <td>Yes</td>\n",
       "      <td>8:00:00 AM</td>\n",
       "      <td>8:30:00 AM</td>\n",
       "      <td>1.56</td>\n",
       "      <td>5 = Fully alert (completely awake)</td>\n",
       "      <td>4 = Easy (can focus with little effort)</td>\n",
       "      <td>5 = Not tired at all (feel fresh and strong)</td>\n",
       "      <td>NaN</td>\n",
       "      <td>NaN</td>\n",
       "      <td>NaN</td>\n",
       "    </tr>\n",
       "    <tr>\n",
       "      <th>2</th>\n",
       "      <td>3/2/2025 13:26:32</td>\n",
       "      <td>Sai Sharath</td>\n",
       "      <td>Saisupriyasharath@gmail.com</td>\n",
       "      <td>Yes</td>\n",
       "      <td>7:15:00 AM</td>\n",
       "      <td>8:45:00 AM</td>\n",
       "      <td>3.00</td>\n",
       "      <td>4 = Mostly awake (can focus on most tasks)</td>\n",
       "      <td>4 = Easy (can focus with little effort)</td>\n",
       "      <td>4 = Slightly tired (little fatigue, feel mostl...</td>\n",
       "      <td>NaN</td>\n",
       "      <td>NaN</td>\n",
       "      <td>NaN</td>\n",
       "    </tr>\n",
       "    <tr>\n",
       "      <th>3</th>\n",
       "      <td>3/2/2025 15:11:43</td>\n",
       "      <td>Reetu Gupta</td>\n",
       "      <td>reetu.gupta@gmail.com</td>\n",
       "      <td>Yes</td>\n",
       "      <td>6:00:00 AM</td>\n",
       "      <td>6:10:00 AM</td>\n",
       "      <td>6.16</td>\n",
       "      <td>3 = Moderately awake (functioning but tired)</td>\n",
       "      <td>3 = Somewhat difficult (can focus but get side...</td>\n",
       "      <td>3 = Somewhat tired (feel fatigue but can be ac...</td>\n",
       "      <td>NaN</td>\n",
       "      <td>NaN</td>\n",
       "      <td>NaN</td>\n",
       "    </tr>\n",
       "    <tr>\n",
       "      <th>4</th>\n",
       "      <td>3/2/2025 18:20:48</td>\n",
       "      <td>Raymond Lee</td>\n",
       "      <td>raymondleemids@berkeley.edu</td>\n",
       "      <td>Yes</td>\n",
       "      <td>9:15:00 AM</td>\n",
       "      <td>9:30:00 AM</td>\n",
       "      <td>6.00</td>\n",
       "      <td>5 = Fully alert (completely awake)</td>\n",
       "      <td>5 = Very easy (no distractions, fully productive)</td>\n",
       "      <td>5 = Not tired at all (feel fresh and strong)</td>\n",
       "      <td>NaN</td>\n",
       "      <td>NaN</td>\n",
       "      <td>NaN</td>\n",
       "    </tr>\n",
       "  </tbody>\n",
       "</table>\n",
       "</div>"
      ],
      "text/plain": [
       "           Timestamp                Name                        Email  \\\n",
       "0   3/2/2025 1:09:36         ISHTIAQUE M            IM332@CORNELL.EDU   \n",
       "1   3/2/2025 9:33:20  amit bhattacharyya          aabtzu@berkeley.edu   \n",
       "2  3/2/2025 13:26:32         Sai Sharath  Saisupriyasharath@gmail.com   \n",
       "3  3/2/2025 15:11:43         Reetu Gupta        reetu.gupta@gmail.com   \n",
       "4  3/2/2025 18:20:48         Raymond Lee  raymondleemids@berkeley.edu   \n",
       "\n",
       "  Do you drink at least one cup of coffee 4 times a week?  \\\n",
       "0                                                Yes        \n",
       "1                                                Yes        \n",
       "2                                                Yes        \n",
       "3                                                Yes        \n",
       "4                                                Yes        \n",
       "\n",
       "  What time did you wake up this morning?  \\\n",
       "0                              7:00:00 AM   \n",
       "1                              8:00:00 AM   \n",
       "2                              7:15:00 AM   \n",
       "3                              6:00:00 AM   \n",
       "4                              9:15:00 AM   \n",
       "\n",
       "  What time did you drink your coffee?\\n\\n- A) On day 1 you need to drink coffee 20 minutes after waking up.\\n\\n- B) On day 2 you need to drink coffee 2 hours after waking up.\\n\\nIf you skipped this time interval, please don't submit the form.  \\\n",
       "0                                         8:00:00 AM                                                                                                                                                                                                  \n",
       "1                                         8:30:00 AM                                                                                                                                                                                                  \n",
       "2                                         8:45:00 AM                                                                                                                                                                                                  \n",
       "3                                         6:10:00 AM                                                                                                                                                                                                  \n",
       "4                                         9:30:00 AM                                                                                                                                                                                                  \n",
       "\n",
       "   How many hours has it been since you woke up?\\n\\nFor testing accuracy, please complete this survey 6 hours after waking up. \\n\\nIf you're filling it out earlier or later than 6 hours after waking up, that's okay—just be honest in your response 😉.   \\\n",
       "0                                               5.85                                                                                                                                                                                                         \n",
       "1                                               1.56                                                                                                                                                                                                         \n",
       "2                                               3.00                                                                                                                                                                                                         \n",
       "3                                               6.16                                                                                                                                                                                                         \n",
       "4                                               6.00                                                                                                                                                                                                         \n",
       "\n",
       "   How awake do you feel right now? (scale 1-5)  \\\n",
       "0    4 = Mostly awake (can focus on most tasks)   \n",
       "1            5 = Fully alert (completely awake)   \n",
       "2    4 = Mostly awake (can focus on most tasks)   \n",
       "3  3 = Moderately awake (functioning but tired)   \n",
       "4            5 = Fully alert (completely awake)   \n",
       "\n",
       "  How difficult was it to focus on tasks today?  (scale 1-5)  \\\n",
       "0            4 = Easy (can focus with little effort)           \n",
       "1            4 = Easy (can focus with little effort)           \n",
       "2            4 = Easy (can focus with little effort)           \n",
       "3  3 = Somewhat difficult (can focus but get side...           \n",
       "4  5 = Very easy (no distractions, fully productive)           \n",
       "\n",
       "  How physically tired do you feel right now?   (scale 1-5)  \\\n",
       "0  4 = Slightly tired (little fatigue, feel mostl...          \n",
       "1       5 = Not tired at all (feel fresh and strong)          \n",
       "2  4 = Slightly tired (little fatigue, feel mostl...          \n",
       "3  3 = Somewhat tired (feel fatigue but can be ac...          \n",
       "4       5 = Not tired at all (feel fresh and strong)          \n",
       "\n",
       "  How much coffee did you drink today?   \\\n",
       "0                                   NaN   \n",
       "1                                   NaN   \n",
       "2                                   NaN   \n",
       "3                                   NaN   \n",
       "4                                   NaN   \n",
       "\n",
       "  Did you notice any differences in your alertness today compared to yesterday? (Open-ended)   \\\n",
       "0                                                NaN                                            \n",
       "1                                                NaN                                            \n",
       "2                                                NaN                                            \n",
       "3                                                NaN                                            \n",
       "4                                                NaN                                            \n",
       "\n",
       "  Any additional comments about your experience with drinking coffee at this time? (Open-ended)   \n",
       "0                                                NaN                                              \n",
       "1                                                NaN                                              \n",
       "2                                                NaN                                              \n",
       "3                                                NaN                                              \n",
       "4                                                NaN                                              "
      ]
     },
     "execution_count": 78,
     "metadata": {},
     "output_type": "execute_result"
    }
   ],
   "source": [
    "df = pd.read_csv('coffee_drinking_dataset_for_analysis.csv')\n",
    "df.head()"
   ]
  },
  {
   "cell_type": "code",
   "execution_count": 79,
   "metadata": {},
   "outputs": [
    {
     "data": {
      "text/plain": [
       "Index(['Timestamp', 'Name', 'Email',\n",
       "       'Do you drink at least one cup of coffee 4 times a week?',\n",
       "       'What time did you wake up this morning?',\n",
       "       'What time did you drink your coffee?\\n\\n- A) On day 1 you need to drink coffee 20 minutes after waking up.\\n\\n- B) On day 2 you need to drink coffee 2 hours after waking up.\\n\\nIf you skipped this time interval, please don't submit the form.',\n",
       "       'How many hours has it been since you woke up?\\n\\nFor testing accuracy, please complete this survey 6 hours after waking up. \\n\\nIf you're filling it out earlier or later than 6 hours after waking up, that's okay—just be honest in your response 😉. ',\n",
       "       'How awake do you feel right now? (scale 1-5)',\n",
       "       'How difficult was it to focus on tasks today?  (scale 1-5)',\n",
       "       'How physically tired do you feel right now?   (scale 1-5)',\n",
       "       'How much coffee did you drink today? ',\n",
       "       'Did you notice any differences in your alertness today compared to yesterday? (Open-ended) ',\n",
       "       'Any additional comments about your experience with drinking coffee at this time? (Open-ended) '],\n",
       "      dtype='object')"
      ]
     },
     "execution_count": 79,
     "metadata": {},
     "output_type": "execute_result"
    }
   ],
   "source": [
    "df.columns"
   ]
  },
  {
   "cell_type": "code",
   "execution_count": 81,
   "metadata": {},
   "outputs": [
    {
     "data": {
      "text/html": [
       "<div>\n",
       "<style scoped>\n",
       "    .dataframe tbody tr th:only-of-type {\n",
       "        vertical-align: middle;\n",
       "    }\n",
       "\n",
       "    .dataframe tbody tr th {\n",
       "        vertical-align: top;\n",
       "    }\n",
       "\n",
       "    .dataframe thead th {\n",
       "        text-align: right;\n",
       "    }\n",
       "</style>\n",
       "<table border=\"1\" class=\"dataframe\">\n",
       "  <thead>\n",
       "    <tr style=\"text-align: right;\">\n",
       "      <th></th>\n",
       "      <th>Timestamp</th>\n",
       "      <th>Name</th>\n",
       "      <th>Email</th>\n",
       "      <th>criteria_ind</th>\n",
       "      <th>wake_up_ts</th>\n",
       "      <th>drink_coffee_ts</th>\n",
       "      <th>hrs_since_woke</th>\n",
       "      <th>awake_answer</th>\n",
       "      <th>difficult_answer</th>\n",
       "      <th>physical_answer</th>\n",
       "      <th>num_cups_today</th>\n",
       "      <th>Did you notice any differences in your alertness today compared to yesterday? (Open-ended)</th>\n",
       "      <th>Any additional comments about your experience with drinking coffee at this time? (Open-ended)</th>\n",
       "    </tr>\n",
       "  </thead>\n",
       "  <tbody>\n",
       "    <tr>\n",
       "      <th>0</th>\n",
       "      <td>3/2/2025 1:09:36</td>\n",
       "      <td>ISHTIAQUE M</td>\n",
       "      <td>IM332@CORNELL.EDU</td>\n",
       "      <td>Yes</td>\n",
       "      <td>7:00:00 AM</td>\n",
       "      <td>8:00:00 AM</td>\n",
       "      <td>5.85</td>\n",
       "      <td>4 = Mostly awake (can focus on most tasks)</td>\n",
       "      <td>4 = Easy (can focus with little effort)</td>\n",
       "      <td>4 = Slightly tired (little fatigue, feel mostl...</td>\n",
       "      <td>NaN</td>\n",
       "      <td>NaN</td>\n",
       "      <td>NaN</td>\n",
       "    </tr>\n",
       "  </tbody>\n",
       "</table>\n",
       "</div>"
      ],
      "text/plain": [
       "          Timestamp         Name              Email criteria_ind  wake_up_ts  \\\n",
       "0  3/2/2025 1:09:36  ISHTIAQUE M  IM332@CORNELL.EDU          Yes  7:00:00 AM   \n",
       "\n",
       "  drink_coffee_ts  hrs_since_woke                                awake_answer  \\\n",
       "0      8:00:00 AM            5.85  4 = Mostly awake (can focus on most tasks)   \n",
       "\n",
       "                          difficult_answer  \\\n",
       "0  4 = Easy (can focus with little effort)   \n",
       "\n",
       "                                     physical_answer num_cups_today  \\\n",
       "0  4 = Slightly tired (little fatigue, feel mostl...            NaN   \n",
       "\n",
       "  Did you notice any differences in your alertness today compared to yesterday? (Open-ended)   \\\n",
       "0                                                NaN                                            \n",
       "\n",
       "  Any additional comments about your experience with drinking coffee at this time? (Open-ended)   \n",
       "0                                                NaN                                              "
      ]
     },
     "execution_count": 81,
     "metadata": {},
     "output_type": "execute_result"
    }
   ],
   "source": [
    "cols = df.columns.tolist()\n",
    "\n",
    "# Example new names for columns 5-12\n",
    "cols[3:11]= ['criteria_ind', 'wake_up_ts', 'drink_coffee_ts', 'hrs_since_woke', \n",
    "             'awake_answer', 'difficult_answer', 'physical_answer', 'num_cups_today']\n",
    "\n",
    "# Assign the new names to those specific columns\n",
    "df.columns = cols\n",
    "df.head(1)"
   ]
  },
  {
   "cell_type": "code",
   "execution_count": 82,
   "metadata": {},
   "outputs": [
    {
     "data": {
      "text/plain": [
       "criteria_ind\n",
       "Yes    41\n",
       "No      3\n",
       "Name: count, dtype: int64"
      ]
     },
     "execution_count": 82,
     "metadata": {},
     "output_type": "execute_result"
    }
   ],
   "source": [
    "df['criteria_ind'].value_counts()"
   ]
  },
  {
   "cell_type": "code",
   "execution_count": 83,
   "metadata": {},
   "outputs": [],
   "source": [
    "# selecting only for participants that matched selection criteria\n",
    "df = df[df['criteria_ind']=='Yes']"
   ]
  },
  {
   "cell_type": "code",
   "execution_count": 84,
   "metadata": {},
   "outputs": [
    {
     "data": {
      "text/plain": [
       "Timestamp                                                                                          0\n",
       "Name                                                                                               0\n",
       "Email                                                                                              0\n",
       "criteria_ind                                                                                       0\n",
       "wake_up_ts                                                                                         0\n",
       "drink_coffee_ts                                                                                    0\n",
       "hrs_since_woke                                                                                     0\n",
       "awake_answer                                                                                       0\n",
       "difficult_answer                                                                                   0\n",
       "physical_answer                                                                                    0\n",
       "num_cups_today                                                                                     6\n",
       "Did you notice any differences in your alertness today compared to yesterday? (Open-ended)        12\n",
       "Any additional comments about your experience with drinking coffee at this time? (Open-ended)     18\n",
       "dtype: int64"
      ]
     },
     "execution_count": 84,
     "metadata": {},
     "output_type": "execute_result"
    }
   ],
   "source": [
    "#looking at nulls\n",
    "df.isna().sum()"
   ]
  },
  {
   "cell_type": "code",
   "execution_count": 85,
   "metadata": {},
   "outputs": [
    {
     "data": {
      "text/plain": [
       "Timestamp                                                                                          0\n",
       "Name                                                                                               0\n",
       "Email                                                                                              0\n",
       "criteria_ind                                                                                       0\n",
       "wake_up_ts                                                                                         0\n",
       "drink_coffee_ts                                                                                    0\n",
       "hrs_since_woke                                                                                     0\n",
       "awake_answer                                                                                       0\n",
       "difficult_answer                                                                                   0\n",
       "physical_answer                                                                                    0\n",
       "num_cups_today                                                                                     6\n",
       "Did you notice any differences in your alertness today compared to yesterday? (Open-ended)        12\n",
       "Any additional comments about your experience with drinking coffee at this time? (Open-ended)     18\n",
       "dtype: int64"
      ]
     },
     "execution_count": 85,
     "metadata": {},
     "output_type": "execute_result"
    }
   ],
   "source": [
    "# dropping extra rows\n",
    "df = df.dropna(subset=['Name'])\n",
    "df.isna().sum()\n"
   ]
  },
  {
   "cell_type": "code",
   "execution_count": 86,
   "metadata": {},
   "outputs": [
    {
     "data": {
      "text/plain": [
       "Index(['Timestamp', 'Name', 'Email', 'criteria_ind', 'wake_up_ts',\n",
       "       'drink_coffee_ts', 'hrs_since_woke', 'awake_answer', 'difficult_answer',\n",
       "       'physical_answer', 'num_cups_today',\n",
       "       'Did you notice any differences in your alertness today compared to yesterday? (Open-ended) ',\n",
       "       'Any additional comments about your experience with drinking coffee at this time? (Open-ended) '],\n",
       "      dtype='object')"
      ]
     },
     "execution_count": 86,
     "metadata": {},
     "output_type": "execute_result"
    }
   ],
   "source": [
    "df.columns"
   ]
  },
  {
   "cell_type": "code",
   "execution_count": 87,
   "metadata": {},
   "outputs": [
    {
     "data": {
      "text/html": [
       "<div>\n",
       "<style scoped>\n",
       "    .dataframe tbody tr th:only-of-type {\n",
       "        vertical-align: middle;\n",
       "    }\n",
       "\n",
       "    .dataframe tbody tr th {\n",
       "        vertical-align: top;\n",
       "    }\n",
       "\n",
       "    .dataframe thead th {\n",
       "        text-align: right;\n",
       "    }\n",
       "</style>\n",
       "<table border=\"1\" class=\"dataframe\">\n",
       "  <thead>\n",
       "    <tr style=\"text-align: right;\">\n",
       "      <th></th>\n",
       "      <th>Timestamp</th>\n",
       "      <th>Name</th>\n",
       "      <th>Email</th>\n",
       "      <th>criteria_ind</th>\n",
       "      <th>wake_up_ts</th>\n",
       "      <th>drink_coffee_ts</th>\n",
       "      <th>hrs_since_woke</th>\n",
       "      <th>awake_answer</th>\n",
       "      <th>difficult_answer</th>\n",
       "      <th>physical_answer</th>\n",
       "      <th>num_cups_today</th>\n",
       "      <th>Did you notice any differences in your alertness today compared to yesterday? (Open-ended)</th>\n",
       "      <th>Any additional comments about your experience with drinking coffee at this time? (Open-ended)</th>\n",
       "    </tr>\n",
       "  </thead>\n",
       "  <tbody>\n",
       "    <tr>\n",
       "      <th>0</th>\n",
       "      <td>3/2/2025 1:09:36</td>\n",
       "      <td>ISHTIAQUE M</td>\n",
       "      <td>IM332@CORNELL.EDU</td>\n",
       "      <td>Yes</td>\n",
       "      <td>7:00:00 AM</td>\n",
       "      <td>8:00:00 AM</td>\n",
       "      <td>5.85</td>\n",
       "      <td>4 = Mostly awake (can focus on most tasks)</td>\n",
       "      <td>4 = Easy (can focus with little effort)</td>\n",
       "      <td>4 = Slightly tired (little fatigue, feel mostl...</td>\n",
       "      <td>NaN</td>\n",
       "      <td>NaN</td>\n",
       "      <td>NaN</td>\n",
       "    </tr>\n",
       "  </tbody>\n",
       "</table>\n",
       "</div>"
      ],
      "text/plain": [
       "          Timestamp         Name              Email criteria_ind  wake_up_ts  \\\n",
       "0  3/2/2025 1:09:36  ISHTIAQUE M  IM332@CORNELL.EDU          Yes  7:00:00 AM   \n",
       "\n",
       "  drink_coffee_ts  hrs_since_woke                                awake_answer  \\\n",
       "0      8:00:00 AM            5.85  4 = Mostly awake (can focus on most tasks)   \n",
       "\n",
       "                          difficult_answer  \\\n",
       "0  4 = Easy (can focus with little effort)   \n",
       "\n",
       "                                     physical_answer num_cups_today  \\\n",
       "0  4 = Slightly tired (little fatigue, feel mostl...            NaN   \n",
       "\n",
       "  Did you notice any differences in your alertness today compared to yesterday? (Open-ended)   \\\n",
       "0                                                NaN                                            \n",
       "\n",
       "  Any additional comments about your experience with drinking coffee at this time? (Open-ended)   \n",
       "0                                                NaN                                              "
      ]
     },
     "execution_count": 87,
     "metadata": {},
     "output_type": "execute_result"
    }
   ],
   "source": [
    "df.head(1)"
   ]
  },
  {
   "cell_type": "code",
   "execution_count": 88,
   "metadata": {},
   "outputs": [
    {
     "data": {
      "text/plain": [
       "Timestamp                                                                                          object\n",
       "Name                                                                                               object\n",
       "Email                                                                                              object\n",
       "criteria_ind                                                                                       object\n",
       "wake_up_ts                                                                                         object\n",
       "drink_coffee_ts                                                                                    object\n",
       "hrs_since_woke                                                                                    float64\n",
       "awake_answer                                                                                       object\n",
       "difficult_answer                                                                                   object\n",
       "physical_answer                                                                                    object\n",
       "num_cups_today                                                                                     object\n",
       "Did you notice any differences in your alertness today compared to yesterday? (Open-ended)         object\n",
       "Any additional comments about your experience with drinking coffee at this time? (Open-ended)      object\n",
       "dtype: object"
      ]
     },
     "execution_count": 88,
     "metadata": {},
     "output_type": "execute_result"
    }
   ],
   "source": [
    "df.dtypes"
   ]
  },
  {
   "cell_type": "code",
   "execution_count": 89,
   "metadata": {},
   "outputs": [],
   "source": [
    "df['wake_up_ts'] = pd.to_datetime(df['wake_up_ts'])\n",
    "df['drink_coffee_ts'] = pd.to_datetime(df['drink_coffee_ts'])"
   ]
  },
  {
   "cell_type": "code",
   "execution_count": 90,
   "metadata": {},
   "outputs": [
    {
     "data": {
      "text/plain": [
       "Timestamp\n",
       "False    25\n",
       "True      8\n",
       "Name: count, dtype: int64"
      ]
     },
     "execution_count": 90,
     "metadata": {},
     "output_type": "execute_result"
    }
   ],
   "source": [
    "# 8 people did 2 days of the experiment\n",
    "(df.groupby('Name')['Timestamp'].count()>1).value_counts()"
   ]
  },
  {
   "cell_type": "code",
   "execution_count": 91,
   "metadata": {},
   "outputs": [
    {
     "data": {
      "text/html": [
       "<div>\n",
       "<style scoped>\n",
       "    .dataframe tbody tr th:only-of-type {\n",
       "        vertical-align: middle;\n",
       "    }\n",
       "\n",
       "    .dataframe tbody tr th {\n",
       "        vertical-align: top;\n",
       "    }\n",
       "\n",
       "    .dataframe thead th {\n",
       "        text-align: right;\n",
       "    }\n",
       "</style>\n",
       "<table border=\"1\" class=\"dataframe\">\n",
       "  <thead>\n",
       "    <tr style=\"text-align: right;\">\n",
       "      <th></th>\n",
       "      <th>Timestamp</th>\n",
       "      <th>Name</th>\n",
       "      <th>Email</th>\n",
       "      <th>criteria_ind</th>\n",
       "      <th>wake_up_ts</th>\n",
       "      <th>drink_coffee_ts</th>\n",
       "      <th>hrs_since_woke</th>\n",
       "      <th>awake_answer</th>\n",
       "      <th>difficult_answer</th>\n",
       "      <th>physical_answer</th>\n",
       "      <th>num_cups_today</th>\n",
       "      <th>Did you notice any differences in your alertness today compared to yesterday? (Open-ended)</th>\n",
       "      <th>Any additional comments about your experience with drinking coffee at this time? (Open-ended)</th>\n",
       "      <th>time_diff</th>\n",
       "      <th>experiment_day</th>\n",
       "    </tr>\n",
       "  </thead>\n",
       "  <tbody>\n",
       "    <tr>\n",
       "      <th>0</th>\n",
       "      <td>3/2/2025 1:09:36</td>\n",
       "      <td>ISHTIAQUE M</td>\n",
       "      <td>IM332@CORNELL.EDU</td>\n",
       "      <td>Yes</td>\n",
       "      <td>2025-04-14 07:00:00</td>\n",
       "      <td>2025-04-14 08:00:00</td>\n",
       "      <td>5.85</td>\n",
       "      <td>4 = Mostly awake (can focus on most tasks)</td>\n",
       "      <td>4 = Easy (can focus with little effort)</td>\n",
       "      <td>4 = Slightly tired (little fatigue, feel mostl...</td>\n",
       "      <td>NaN</td>\n",
       "      <td>NaN</td>\n",
       "      <td>NaN</td>\n",
       "      <td>0 days 01:00:00</td>\n",
       "      <td>0</td>\n",
       "    </tr>\n",
       "    <tr>\n",
       "      <th>1</th>\n",
       "      <td>3/2/2025 9:33:20</td>\n",
       "      <td>amit bhattacharyya</td>\n",
       "      <td>aabtzu@berkeley.edu</td>\n",
       "      <td>Yes</td>\n",
       "      <td>2025-04-14 08:00:00</td>\n",
       "      <td>2025-04-14 08:30:00</td>\n",
       "      <td>1.56</td>\n",
       "      <td>5 = Fully alert (completely awake)</td>\n",
       "      <td>4 = Easy (can focus with little effort)</td>\n",
       "      <td>5 = Not tired at all (feel fresh and strong)</td>\n",
       "      <td>NaN</td>\n",
       "      <td>NaN</td>\n",
       "      <td>NaN</td>\n",
       "      <td>0 days 00:30:00</td>\n",
       "      <td>1</td>\n",
       "    </tr>\n",
       "    <tr>\n",
       "      <th>2</th>\n",
       "      <td>3/2/2025 13:26:32</td>\n",
       "      <td>Sai Sharath</td>\n",
       "      <td>Saisupriyasharath@gmail.com</td>\n",
       "      <td>Yes</td>\n",
       "      <td>2025-04-14 07:15:00</td>\n",
       "      <td>2025-04-14 08:45:00</td>\n",
       "      <td>3.00</td>\n",
       "      <td>4 = Mostly awake (can focus on most tasks)</td>\n",
       "      <td>4 = Easy (can focus with little effort)</td>\n",
       "      <td>4 = Slightly tired (little fatigue, feel mostl...</td>\n",
       "      <td>NaN</td>\n",
       "      <td>NaN</td>\n",
       "      <td>NaN</td>\n",
       "      <td>0 days 01:30:00</td>\n",
       "      <td>2</td>\n",
       "    </tr>\n",
       "    <tr>\n",
       "      <th>3</th>\n",
       "      <td>3/2/2025 15:11:43</td>\n",
       "      <td>Reetu Gupta</td>\n",
       "      <td>reetu.gupta@gmail.com</td>\n",
       "      <td>Yes</td>\n",
       "      <td>2025-04-14 06:00:00</td>\n",
       "      <td>2025-04-14 06:10:00</td>\n",
       "      <td>6.16</td>\n",
       "      <td>3 = Moderately awake (functioning but tired)</td>\n",
       "      <td>3 = Somewhat difficult (can focus but get side...</td>\n",
       "      <td>3 = Somewhat tired (feel fatigue but can be ac...</td>\n",
       "      <td>NaN</td>\n",
       "      <td>NaN</td>\n",
       "      <td>NaN</td>\n",
       "      <td>0 days 00:10:00</td>\n",
       "      <td>1</td>\n",
       "    </tr>\n",
       "  </tbody>\n",
       "</table>\n",
       "</div>"
      ],
      "text/plain": [
       "           Timestamp                Name                        Email  \\\n",
       "0   3/2/2025 1:09:36         ISHTIAQUE M            IM332@CORNELL.EDU   \n",
       "1   3/2/2025 9:33:20  amit bhattacharyya          aabtzu@berkeley.edu   \n",
       "2  3/2/2025 13:26:32         Sai Sharath  Saisupriyasharath@gmail.com   \n",
       "3  3/2/2025 15:11:43         Reetu Gupta        reetu.gupta@gmail.com   \n",
       "\n",
       "  criteria_ind          wake_up_ts     drink_coffee_ts  hrs_since_woke  \\\n",
       "0          Yes 2025-04-14 07:00:00 2025-04-14 08:00:00            5.85   \n",
       "1          Yes 2025-04-14 08:00:00 2025-04-14 08:30:00            1.56   \n",
       "2          Yes 2025-04-14 07:15:00 2025-04-14 08:45:00            3.00   \n",
       "3          Yes 2025-04-14 06:00:00 2025-04-14 06:10:00            6.16   \n",
       "\n",
       "                                   awake_answer  \\\n",
       "0    4 = Mostly awake (can focus on most tasks)   \n",
       "1            5 = Fully alert (completely awake)   \n",
       "2    4 = Mostly awake (can focus on most tasks)   \n",
       "3  3 = Moderately awake (functioning but tired)   \n",
       "\n",
       "                                    difficult_answer  \\\n",
       "0            4 = Easy (can focus with little effort)   \n",
       "1            4 = Easy (can focus with little effort)   \n",
       "2            4 = Easy (can focus with little effort)   \n",
       "3  3 = Somewhat difficult (can focus but get side...   \n",
       "\n",
       "                                     physical_answer num_cups_today  \\\n",
       "0  4 = Slightly tired (little fatigue, feel mostl...            NaN   \n",
       "1       5 = Not tired at all (feel fresh and strong)            NaN   \n",
       "2  4 = Slightly tired (little fatigue, feel mostl...            NaN   \n",
       "3  3 = Somewhat tired (feel fatigue but can be ac...            NaN   \n",
       "\n",
       "  Did you notice any differences in your alertness today compared to yesterday? (Open-ended)   \\\n",
       "0                                                NaN                                            \n",
       "1                                                NaN                                            \n",
       "2                                                NaN                                            \n",
       "3                                                NaN                                            \n",
       "\n",
       "  Any additional comments about your experience with drinking coffee at this time? (Open-ended)   \\\n",
       "0                                                NaN                                               \n",
       "1                                                NaN                                               \n",
       "2                                                NaN                                               \n",
       "3                                                NaN                                               \n",
       "\n",
       "        time_diff  experiment_day  \n",
       "0 0 days 01:00:00               0  \n",
       "1 0 days 00:30:00               1  \n",
       "2 0 days 01:30:00               2  \n",
       "3 0 days 00:10:00               1  "
      ]
     },
     "execution_count": 91,
     "metadata": {},
     "output_type": "execute_result"
    }
   ],
   "source": [
    "df['time_diff'] = (df['drink_coffee_ts'] - df['wake_up_ts']).abs()\n",
    "conditions = [\n",
    "    (df['time_diff'] <= pd.Timedelta(minutes=30)),  # Condition 1: less than 30 mins\n",
    "    (df['time_diff'] > pd.Timedelta(minutes=60)) & (df['time_diff'] < pd.Timedelta(hours=3))  # Condition 2: between 30 mins and 3 hours\n",
    "]\n",
    "df['experiment_day'] = np.select(conditions, [1, 2], default=0)  # default=0 for cases that don't match any condition\n",
    "\n",
    "df.head(4)\n"
   ]
  },
  {
   "cell_type": "code",
   "execution_count": 92,
   "metadata": {},
   "outputs": [
    {
     "data": {
      "text/plain": [
       "experiment_day\n",
       "1    20\n",
       "2    16\n",
       "0     5\n",
       "Name: count, dtype: int64"
      ]
     },
     "execution_count": 92,
     "metadata": {},
     "output_type": "execute_result"
    }
   ],
   "source": [
    "# using a window criteria of <=30 mins for day 1 and >60 mins and <= 3hrs for day 2,\n",
    "# we have a more users for a technical day 2.\n",
    "df['experiment_day'].value_counts()"
   ]
  },
  {
   "cell_type": "code",
   "execution_count": 93,
   "metadata": {},
   "outputs": [
    {
     "data": {
      "text/html": [
       "<div>\n",
       "<style scoped>\n",
       "    .dataframe tbody tr th:only-of-type {\n",
       "        vertical-align: middle;\n",
       "    }\n",
       "\n",
       "    .dataframe tbody tr th {\n",
       "        vertical-align: top;\n",
       "    }\n",
       "\n",
       "    .dataframe thead th {\n",
       "        text-align: right;\n",
       "    }\n",
       "</style>\n",
       "<table border=\"1\" class=\"dataframe\">\n",
       "  <thead>\n",
       "    <tr style=\"text-align: right;\">\n",
       "      <th></th>\n",
       "      <th>Timestamp</th>\n",
       "      <th>Name</th>\n",
       "      <th>Email</th>\n",
       "      <th>criteria_ind</th>\n",
       "      <th>wake_up_ts</th>\n",
       "      <th>drink_coffee_ts</th>\n",
       "      <th>hrs_since_woke</th>\n",
       "      <th>awake_answer</th>\n",
       "      <th>difficult_answer</th>\n",
       "      <th>physical_answer</th>\n",
       "      <th>num_cups_today</th>\n",
       "      <th>Did you notice any differences in your alertness today compared to yesterday? (Open-ended)</th>\n",
       "      <th>Any additional comments about your experience with drinking coffee at this time? (Open-ended)</th>\n",
       "      <th>time_diff</th>\n",
       "      <th>experiment_day</th>\n",
       "      <th>awake_score</th>\n",
       "      <th>difficult_score</th>\n",
       "      <th>physical_score</th>\n",
       "    </tr>\n",
       "  </thead>\n",
       "  <tbody>\n",
       "    <tr>\n",
       "      <th>0</th>\n",
       "      <td>3/2/2025 1:09:36</td>\n",
       "      <td>ISHTIAQUE M</td>\n",
       "      <td>IM332@CORNELL.EDU</td>\n",
       "      <td>Yes</td>\n",
       "      <td>2025-04-14 07:00:00</td>\n",
       "      <td>2025-04-14 08:00:00</td>\n",
       "      <td>5.85</td>\n",
       "      <td>4 = Mostly awake (can focus on most tasks)</td>\n",
       "      <td>4 = Easy (can focus with little effort)</td>\n",
       "      <td>4 = Slightly tired (little fatigue, feel mostl...</td>\n",
       "      <td>NaN</td>\n",
       "      <td>NaN</td>\n",
       "      <td>NaN</td>\n",
       "      <td>0 days 01:00:00</td>\n",
       "      <td>0</td>\n",
       "      <td>4</td>\n",
       "      <td>4</td>\n",
       "      <td>4</td>\n",
       "    </tr>\n",
       "    <tr>\n",
       "      <th>1</th>\n",
       "      <td>3/2/2025 9:33:20</td>\n",
       "      <td>amit bhattacharyya</td>\n",
       "      <td>aabtzu@berkeley.edu</td>\n",
       "      <td>Yes</td>\n",
       "      <td>2025-04-14 08:00:00</td>\n",
       "      <td>2025-04-14 08:30:00</td>\n",
       "      <td>1.56</td>\n",
       "      <td>5 = Fully alert (completely awake)</td>\n",
       "      <td>4 = Easy (can focus with little effort)</td>\n",
       "      <td>5 = Not tired at all (feel fresh and strong)</td>\n",
       "      <td>NaN</td>\n",
       "      <td>NaN</td>\n",
       "      <td>NaN</td>\n",
       "      <td>0 days 00:30:00</td>\n",
       "      <td>1</td>\n",
       "      <td>5</td>\n",
       "      <td>4</td>\n",
       "      <td>5</td>\n",
       "    </tr>\n",
       "  </tbody>\n",
       "</table>\n",
       "</div>"
      ],
      "text/plain": [
       "          Timestamp                Name                Email criteria_ind  \\\n",
       "0  3/2/2025 1:09:36         ISHTIAQUE M    IM332@CORNELL.EDU          Yes   \n",
       "1  3/2/2025 9:33:20  amit bhattacharyya  aabtzu@berkeley.edu          Yes   \n",
       "\n",
       "           wake_up_ts     drink_coffee_ts  hrs_since_woke  \\\n",
       "0 2025-04-14 07:00:00 2025-04-14 08:00:00            5.85   \n",
       "1 2025-04-14 08:00:00 2025-04-14 08:30:00            1.56   \n",
       "\n",
       "                                 awake_answer  \\\n",
       "0  4 = Mostly awake (can focus on most tasks)   \n",
       "1          5 = Fully alert (completely awake)   \n",
       "\n",
       "                          difficult_answer  \\\n",
       "0  4 = Easy (can focus with little effort)   \n",
       "1  4 = Easy (can focus with little effort)   \n",
       "\n",
       "                                     physical_answer num_cups_today  \\\n",
       "0  4 = Slightly tired (little fatigue, feel mostl...            NaN   \n",
       "1       5 = Not tired at all (feel fresh and strong)            NaN   \n",
       "\n",
       "  Did you notice any differences in your alertness today compared to yesterday? (Open-ended)   \\\n",
       "0                                                NaN                                            \n",
       "1                                                NaN                                            \n",
       "\n",
       "  Any additional comments about your experience with drinking coffee at this time? (Open-ended)   \\\n",
       "0                                                NaN                                               \n",
       "1                                                NaN                                               \n",
       "\n",
       "        time_diff  experiment_day awake_score difficult_score physical_score  \n",
       "0 0 days 01:00:00               0           4               4              4  \n",
       "1 0 days 00:30:00               1           5               4              5  "
      ]
     },
     "execution_count": 93,
     "metadata": {},
     "output_type": "execute_result"
    }
   ],
   "source": [
    "df['awake_score'] = df['awake_answer'].str.extract('(\\d+)')\n",
    "df['difficult_score'] = df['difficult_answer'].str.extract('(\\d+)')\n",
    "df['physical_score'] = df['physical_answer'].str.extract('(\\d+)')\n",
    "df.head(2)"
   ]
  },
  {
   "cell_type": "code",
   "execution_count": 94,
   "metadata": {},
   "outputs": [],
   "source": [
    "df['awake_score'] = pd.to_numeric(df['awake_score'], errors='coerce')\n",
    "df['difficult_score'] = pd.to_numeric(df['difficult_score'], errors='coerce')\n",
    "df['physical_score'] = pd.to_numeric(df['physical_score'], errors='coerce')\n"
   ]
  },
  {
   "cell_type": "code",
   "execution_count": 95,
   "metadata": {},
   "outputs": [
    {
     "data": {
      "text/html": [
       "<div>\n",
       "<style scoped>\n",
       "    .dataframe tbody tr th:only-of-type {\n",
       "        vertical-align: middle;\n",
       "    }\n",
       "\n",
       "    .dataframe tbody tr th {\n",
       "        vertical-align: top;\n",
       "    }\n",
       "\n",
       "    .dataframe thead th {\n",
       "        text-align: right;\n",
       "    }\n",
       "</style>\n",
       "<table border=\"1\" class=\"dataframe\">\n",
       "  <thead>\n",
       "    <tr style=\"text-align: right;\">\n",
       "      <th></th>\n",
       "      <th>Timestamp</th>\n",
       "      <th>Name</th>\n",
       "      <th>Email</th>\n",
       "      <th>criteria_ind</th>\n",
       "      <th>wake_up_ts</th>\n",
       "      <th>drink_coffee_ts</th>\n",
       "      <th>hrs_since_woke</th>\n",
       "      <th>awake_answer</th>\n",
       "      <th>difficult_answer</th>\n",
       "      <th>physical_answer</th>\n",
       "      <th>num_cups_today</th>\n",
       "      <th>Did you notice any differences in your alertness today compared to yesterday? (Open-ended)</th>\n",
       "      <th>Any additional comments about your experience with drinking coffee at this time? (Open-ended)</th>\n",
       "      <th>time_diff</th>\n",
       "      <th>experiment_day</th>\n",
       "      <th>awake_score</th>\n",
       "      <th>difficult_score</th>\n",
       "      <th>physical_score</th>\n",
       "      <th>alert_index_score</th>\n",
       "    </tr>\n",
       "  </thead>\n",
       "  <tbody>\n",
       "    <tr>\n",
       "      <th>0</th>\n",
       "      <td>3/2/2025 1:09:36</td>\n",
       "      <td>ISHTIAQUE M</td>\n",
       "      <td>IM332@CORNELL.EDU</td>\n",
       "      <td>Yes</td>\n",
       "      <td>2025-04-14 07:00:00</td>\n",
       "      <td>2025-04-14 08:00:00</td>\n",
       "      <td>5.85</td>\n",
       "      <td>4 = Mostly awake (can focus on most tasks)</td>\n",
       "      <td>4 = Easy (can focus with little effort)</td>\n",
       "      <td>4 = Slightly tired (little fatigue, feel mostl...</td>\n",
       "      <td>NaN</td>\n",
       "      <td>NaN</td>\n",
       "      <td>NaN</td>\n",
       "      <td>0 days 01:00:00</td>\n",
       "      <td>0</td>\n",
       "      <td>4</td>\n",
       "      <td>4</td>\n",
       "      <td>4</td>\n",
       "      <td>12</td>\n",
       "    </tr>\n",
       "  </tbody>\n",
       "</table>\n",
       "</div>"
      ],
      "text/plain": [
       "          Timestamp         Name              Email criteria_ind  \\\n",
       "0  3/2/2025 1:09:36  ISHTIAQUE M  IM332@CORNELL.EDU          Yes   \n",
       "\n",
       "           wake_up_ts     drink_coffee_ts  hrs_since_woke  \\\n",
       "0 2025-04-14 07:00:00 2025-04-14 08:00:00            5.85   \n",
       "\n",
       "                                 awake_answer  \\\n",
       "0  4 = Mostly awake (can focus on most tasks)   \n",
       "\n",
       "                          difficult_answer  \\\n",
       "0  4 = Easy (can focus with little effort)   \n",
       "\n",
       "                                     physical_answer num_cups_today  \\\n",
       "0  4 = Slightly tired (little fatigue, feel mostl...            NaN   \n",
       "\n",
       "  Did you notice any differences in your alertness today compared to yesterday? (Open-ended)   \\\n",
       "0                                                NaN                                            \n",
       "\n",
       "  Any additional comments about your experience with drinking coffee at this time? (Open-ended)   \\\n",
       "0                                                NaN                                               \n",
       "\n",
       "        time_diff  experiment_day  awake_score  difficult_score  \\\n",
       "0 0 days 01:00:00               0            4                4   \n",
       "\n",
       "   physical_score  alert_index_score  \n",
       "0               4                 12  "
      ]
     },
     "execution_count": 95,
     "metadata": {},
     "output_type": "execute_result"
    }
   ],
   "source": [
    "df['alert_index_score'] = df['awake_score'] + df['difficult_score'] + df['physical_score']\n",
    "df.head(1)"
   ]
  },
  {
   "cell_type": "code",
   "execution_count": 96,
   "metadata": {},
   "outputs": [],
   "source": [
    "df['alert_index_score'] = pd.to_numeric(df['alert_index_score'], errors='coerce')"
   ]
  },
  {
   "cell_type": "code",
   "execution_count": 101,
   "metadata": {},
   "outputs": [
    {
     "data": {
      "image/png": "[encoded data removed]",
      "text/plain": [
       "<Figure size 640x480 with 1 Axes>"
      ]
     },
     "metadata": {},
     "output_type": "display_data"
    },
    {
     "data": {
      "image/png": "[encoded data removed]",
      "text/plain": [
       "<Figure size 640x480 with 1 Axes>"
      ]
     },
     "metadata": {},
     "output_type": "display_data"
    },
    {
     "data": {
      "image/png": "[encoded data removed]",
      "text/plain": [
       "<Figure size 640x480 with 1 Axes>"
      ]
     },
     "metadata": {},
     "output_type": "display_data"
    },
    {
     "data": {
      "image/png": "[encoded data removed]",
      "text/plain": [
       "<Figure size 640x480 with 1 Axes>"
      ]
     },
     "metadata": {},
     "output_type": "display_data"
    },
    {
     "data": {
      "image/png": "[encoded data removed]",
      "text/plain": [
       "<Figure size 640x480 with 1 Axes>"
      ]
     },
     "metadata": {},
     "output_type": "display_data"
    },
    {
     "data": {
      "image/png": "[encoded data removed]",
      "text/plain": [
       "<Figure size 640x480 with 1 Axes>"
      ]
     },
     "metadata": {},
     "output_type": "display_data"
    },
    {
     "data": {
      "image/png": "[encoded data removed]",
      "text/plain": [
       "<Figure size 640x480 with 1 Axes>"
      ]
     },
     "metadata": {},
     "output_type": "display_data"
    },
    {
     "data": {
      "image/png": "[encoded data removed]",
      "text/plain": [
       "<Figure size 640x480 with 1 Axes>"
      ]
     },
     "metadata": {},
     "output_type": "display_data"
    }
   ],
   "source": [
    "# visualizing distributions\n",
    "for day in [1,2]:\n",
    "    for metric in ['awake_score','difficult_score','physical_score','alert_index_score']:\n",
    "\n",
    "        df[df['experiment_day']==day][metric].value_counts().sort_index().plot(kind='bar')\n",
    "\n",
    "        # Add labels and title\n",
    "        plt.xlabel('Alert Index Score')\n",
    "        plt.ylabel('Frequency')\n",
    "        if day == 1:\n",
    "            plt.title('Control group, Distribution of Values in '+str(metric))\n",
    "        else:\n",
    "            plt.title('Treatment group, Distribution of Values in '+str(metric))\n",
    "        plt.grid()\n",
    "        # Show the plot\n",
    "        plt.show()"
   ]
  },
  {
   "cell_type": "code",
   "execution_count": 111,
   "metadata": {},
   "outputs": [
    {
     "data": {
      "image/png": "[encoded data removed]",
      "text/plain": [
       "<Figure size 640x480 with 1 Axes>"
      ]
     },
     "metadata": {},
     "output_type": "display_data"
    }
   ],
   "source": [
    "df[df['experiment_day']==1]['alert_index_score'].value_counts().sort_index().plot(kind='bar')\n",
    "plt.xlabel('Alert Index Score')\n",
    "plt.ylabel('Frequency')\n",
    "plt.title('Control group, Distribution of Values in Alert Index Score (n = 20)')\n",
    "plt.ylim(0,6)\n",
    "plt.grid()\n",
    "plt.show()"
   ]
  },
  {
   "cell_type": "code",
   "execution_count": 112,
   "metadata": {},
   "outputs": [
    {
     "data": {
      "image/png": "[encoded data removed]",
      "text/plain": [
       "<Figure size 640x480 with 1 Axes>"
      ]
     },
     "metadata": {},
     "output_type": "display_data"
    }
   ],
   "source": [
    "df[df['experiment_day']==2]['alert_index_score'].value_counts().sort_index().plot(kind='bar')\n",
    "plt.xlabel('Alert Index Score')\n",
    "plt.ylabel('Frequency')\n",
    "plt.title('Treatment group, Distribution of Values in Alert Index Score (n = 16)')\n",
    "plt.ylim(0,6)\n",
    "plt.grid()\n",
    "plt.show()"
   ]
  },
  {
   "cell_type": "code",
   "execution_count": null,
   "metadata": {},
   "outputs": [],
   "source": [
    "# Between subjects comparison assumption (n = 36)"
   ]
  },
  {
   "cell_type": "code",
   "execution_count": 116,
   "metadata": {},
   "outputs": [
    {
     "name": "stdout",
     "output_type": "stream",
     "text": [
      "12.05\n",
      "11.375\n",
      "-0.6999999999999993\n"
     ]
    }
   ],
   "source": [
    "print(df[df['experiment_day']==1]['alert_index_score'].mean())\n",
    "print(df[df['experiment_day']==2]['alert_index_score'].mean())\n",
    "print(11.4-12.1)"
   ]
  },
  {
   "cell_type": "code",
   "execution_count": 119,
   "metadata": {},
   "outputs": [
    {
     "name": "stdout",
     "output_type": "stream",
     "text": [
      "t = -0.83, p = 0.413\n"
     ]
    }
   ],
   "source": [
    "from scipy.stats import ttest_ind\n",
    "control_scores = df[df['experiment_day'] == 1]['alert_index_score']\n",
    "treatment_scores = df[df['experiment_day'] == 2]['alert_index_score']\n",
    "\n",
    "t_stat, p_val = ttest_ind(treatment_scores, control_scores, equal_var=False)\n",
    "print(f\"t = {t_stat:.2f}, p = {p_val:.3f}\")"
   ]
  },
  {
   "cell_type": "code",
   "execution_count": 121,
   "metadata": {},
   "outputs": [
    {
     "name": "stdout",
     "output_type": "stream",
     "text": [
      "Cohen's d: -0.28\n"
     ]
    }
   ],
   "source": [
    "control = df[df['experiment_day'] == 1]['alert_index_score']\n",
    "treatment = df[df['experiment_day'] == 2]['alert_index_score']\n",
    "\n",
    "# Calculate pooled standard deviation\n",
    "pooled_std = np.sqrt(((control.std() ** 2) + (treatment.std() ** 2)) / 2)\n",
    "\n",
    "# Calculate Cohen's d\n",
    "cohen_d = (treatment.mean() - control.mean()) / pooled_std\n",
    "print(f\"Cohen's d: {cohen_d:.2f}\")"
   ]
  },
  {
   "cell_type": "code",
   "execution_count": null,
   "metadata": {},
   "outputs": [],
   "source": [
    "# Paired Differences assumption (n = 8)"
   ]
  },
  {
   "cell_type": "code",
   "execution_count": 117,
   "metadata": {},
   "outputs": [
    {
     "name": "stdout",
     "output_type": "stream",
     "text": [
      "Paired ATE (treatment - control): -0.40\n"
     ]
    }
   ],
   "source": [
    "# Rename the group labels for clarity\n",
    "df['group'] = df['experiment_day'].map({1: 'control', 2: 'treatment'})\n",
    "\n",
    "# Pivot the data: one row per participant, columns for control and treatment scores\n",
    "pivot_df = df.pivot_table(index='Name', columns='group', values='alert_index_score')\n",
    "\n",
    "# Drop participants who didn't complete both conditions\n",
    "paired_df = pivot_df.dropna(subset=['control', 'treatment'])\n",
    "\n",
    "# Compute the within-person difference (treatment - control)\n",
    "paired_df['diff'] = paired_df['treatment'] - paired_df['control']\n",
    "\n",
    "# Estimate the mean paired ATE\n",
    "mean_diff = paired_df['diff'].mean()\n",
    "print(f\"Paired ATE (treatment - control): {mean_diff:.2f}\")"
   ]
  },
  {
   "cell_type": "code",
   "execution_count": 120,
   "metadata": {},
   "outputs": [
    {
     "name": "stdout",
     "output_type": "stream",
     "text": [
      "Paired t = -0.27, p = 0.803\n"
     ]
    }
   ],
   "source": [
    "from scipy.stats import ttest_rel\n",
    "\n",
    "t_stat, p_val = ttest_rel(paired_df['treatment'], paired_df['control'])\n",
    "print(f\"Paired t = {t_stat:.2f}, p = {p_val:.3f}\")"
   ]
  },
  {
   "cell_type": "code",
   "execution_count": null,
   "metadata": {},
   "outputs": [],
   "source": [
    "# Regression analysis"
   ]
  },
  {
   "cell_type": "code",
   "execution_count": 76,
   "metadata": {},
   "outputs": [
    {
     "name": "stderr",
     "output_type": "stream",
     "text": [
      "\n",
      "[notice] A new release of pip is available: 24.0 -> 25.0.1\n",
      "[notice] To update, run: C:\\Users\\fquad\\AppData\\Local\\Microsoft\\WindowsApps\\PythonSoftwareFoundation.Python.3.11_qbz5n2kfra8p0\\python.exe -m pip install --upgrade pip\n"
     ]
    },
    {
     "name": "stdout",
     "output_type": "stream",
     "text": [
      "Collecting statsmodels\n",
      "  Downloading statsmodels-0.14.4-cp311-cp311-win_amd64.whl.metadata (9.5 kB)\n",
      "Requirement already satisfied: numpy<3,>=1.22.3 in c:\\users\\fquad\\appdata\\local\\packages\\pythonsoftwarefoundation.python.3.11_qbz5n2kfra8p0\\localcache\\local-packages\\python311\\site-packages (from statsmodels) (1.26.4)\n",
      "Requirement already satisfied: scipy!=1.9.2,>=1.8 in c:\\users\\fquad\\appdata\\local\\packages\\pythonsoftwarefoundation.python.3.11_qbz5n2kfra8p0\\localcache\\local-packages\\python311\\site-packages (from statsmodels) (1.14.1)\n",
      "Requirement already satisfied: pandas!=2.1.0,>=1.4 in c:\\users\\fquad\\appdata\\local\\packages\\pythonsoftwarefoundation.python.3.11_qbz5n2kfra8p0\\localcache\\local-packages\\python311\\site-packages (from statsmodels) (2.2.2)\n",
      "Collecting patsy>=0.5.6 (from statsmodels)\n",
      "  Downloading patsy-1.0.1-py2.py3-none-any.whl.metadata (3.3 kB)\n",
      "Requirement already satisfied: packaging>=21.3 in c:\\users\\fquad\\appdata\\local\\packages\\pythonsoftwarefoundation.python.3.11_qbz5n2kfra8p0\\localcache\\local-packages\\python311\\site-packages (from statsmodels) (23.1)\n",
      "Requirement already satisfied: python-dateutil>=2.8.2 in c:\\users\\fquad\\appdata\\local\\packages\\pythonsoftwarefoundation.python.3.11_qbz5n2kfra8p0\\localcache\\local-packages\\python311\\site-packages (from pandas!=2.1.0,>=1.4->statsmodels) (2.8.2)\n",
      "Requirement already satisfied: pytz>=2020.1 in c:\\users\\fquad\\appdata\\local\\packages\\pythonsoftwarefoundation.python.3.11_qbz5n2kfra8p0\\localcache\\local-packages\\python311\\site-packages (from pandas!=2.1.0,>=1.4->statsmodels) (2024.1)\n",
      "Requirement already satisfied: tzdata>=2022.7 in c:\\users\\fquad\\appdata\\local\\packages\\pythonsoftwarefoundation.python.3.11_qbz5n2kfra8p0\\localcache\\local-packages\\python311\\site-packages (from pandas!=2.1.0,>=1.4->statsmodels) (2024.1)\n",
      "Requirement already satisfied: six>=1.5 in c:\\users\\fquad\\appdata\\local\\packages\\pythonsoftwarefoundation.python.3.11_qbz5n2kfra8p0\\localcache\\local-packages\\python311\\site-packages (from python-dateutil>=2.8.2->pandas!=2.1.0,>=1.4->statsmodels) (1.16.0)\n",
      "Downloading statsmodels-0.14.4-cp311-cp311-win_amd64.whl (9.9 MB)\n",
      "   ---------------------------------------- 0.0/9.9 MB ? eta -:--:--\n",
      "   ---------------------------------------- 0.0/9.9 MB 640.0 kB/s eta 0:00:16\n",
      "   ---------------------------------------- 0.1/9.9 MB 825.8 kB/s eta 0:00:12\n",
      "   - -------------------------------------- 0.4/9.9 MB 3.3 MB/s eta 0:00:03\n",
      "   ------ --------------------------------- 1.6/9.9 MB 10.3 MB/s eta 0:00:01\n",
      "   ----------------- ---------------------- 4.2/9.9 MB 20.8 MB/s eta 0:00:01\n",
      "   ------------------------------ --------- 7.4/9.9 MB 29.7 MB/s eta 0:00:01\n",
      "   ---------------------------------------  9.9/9.9 MB 33.1 MB/s eta 0:00:01\n",
      "   ---------------------------------------- 9.9/9.9 MB 30.0 MB/s eta 0:00:00\n",
      "Downloading patsy-1.0.1-py2.py3-none-any.whl (232 kB)\n",
      "   ---------------------------------------- 0.0/232.9 kB ? eta -:--:--\n",
      "   -------------------------------------- - 225.3/232.9 kB ? eta -:--:--\n",
      "   ---------------------------------------- 232.9/232.9 kB 3.5 MB/s eta 0:00:00\n",
      "Installing collected packages: patsy, statsmodels\n",
      "Successfully installed patsy-1.0.1 statsmodels-0.14.4\n"
     ]
    }
   ],
   "source": [
    "!pip install statsmodels"
   ]
  },
  {
   "cell_type": "code",
   "execution_count": 123,
   "metadata": {},
   "outputs": [
    {
     "data": {
      "text/plain": [
       "Index(['Timestamp', 'Name', 'Email', 'criteria_ind', 'wake_up_ts',\n",
       "       'drink_coffee_ts', 'hrs_since_woke', 'awake_answer', 'difficult_answer',\n",
       "       'physical_answer', 'num_cups_today',\n",
       "       'Did you notice any differences in your alertness today compared to yesterday? (Open-ended) ',\n",
       "       'Any additional comments about your experience with drinking coffee at this time? (Open-ended) ',\n",
       "       'time_diff', 'experiment_day', 'awake_score', 'difficult_score',\n",
       "       'physical_score', 'alert_index_score', 'group', 'treatment'],\n",
       "      dtype='object')"
      ]
     },
     "execution_count": 123,
     "metadata": {},
     "output_type": "execute_result"
    }
   ],
   "source": [
    "df.columns"
   ]
  },
  {
   "cell_type": "code",
   "execution_count": null,
   "metadata": {},
   "outputs": [
    {
     "name": "stdout",
     "output_type": "stream",
     "text": [
      "                            OLS Regression Results                            \n",
      "==============================================================================\n",
      "Dep. Variable:      alert_index_score   R-squared:                       0.068\n",
      "Model:                            OLS   Adj. R-squared:                 -0.070\n",
      "Method:                 Least Squares   F-statistic:                    0.4922\n",
      "Date:                Mon, 14 Apr 2025   Prob (F-statistic):              0.741\n",
      "Time:                        14:00:18   Log-Likelihood:                -71.115\n",
      "No. Observations:                  32   AIC:                             152.2\n",
      "Df Residuals:                      27   BIC:                             159.6\n",
      "Df Model:                           4                                         \n",
      "Covariance Type:            nonrobust                                         \n",
      "============================================================================================\n",
      "                               coef    std err          t      P>|t|      [0.025      0.975]\n",
      "--------------------------------------------------------------------------------------------\n",
      "Intercept                   13.0468      1.750      7.457      0.000       9.457      16.637\n",
      "num_cups_today[T.2 cups]     0.5705      0.917      0.622      0.539      -1.311       2.452\n",
      "num_cups_today[T.3 cups]     1.1767      1.879      0.626      0.536      -2.679       5.032\n",
      "treatment                   -0.6196      0.904     -0.685      0.499      -2.475       1.235\n",
      "hrs_since_woke              -0.2039      0.228     -0.895      0.379      -0.672       0.264\n",
      "==============================================================================\n",
      "Omnibus:                        1.023   Durbin-Watson:                   1.766\n",
      "Prob(Omnibus):                  0.599   Jarque-Bera (JB):                0.976\n",
      "Skew:                          -0.381   Prob(JB):                        0.614\n",
      "Kurtosis:                       2.612   Cond. No.                         35.0\n",
      "==============================================================================\n",
      "\n",
      "Notes:\n",
      "[1] Standard Errors assume that the covariance matrix of the errors is correctly specified.\n"
     ]
    }
   ],
   "source": [
    "# basic regression\n",
    "import statsmodels.formula.api as smf\n",
    "\n",
    "df['treatment'] = df['experiment_day'].map({1: 0, 2: 1})\n",
    "\n",
    "model = smf.ols(\"alert_index_score ~ treatment + hrs_since_woke + num_cups_today\", data=df).fit()\n",
    "print(model.summary())"
   ]
  },
  {
   "cell_type": "code",
   "execution_count": 137,
   "metadata": {},
   "outputs": [
    {
     "name": "stdout",
     "output_type": "stream",
     "text": [
      "                            OLS Regression Results                            \n",
      "==============================================================================\n",
      "Dep. Variable:            awake_score   R-squared:                       0.079\n",
      "Model:                            OLS   Adj. R-squared:                 -0.057\n",
      "Method:                 Least Squares   F-statistic:                    0.5823\n",
      "Date:                Mon, 14 Apr 2025   Prob (F-statistic):              0.678\n",
      "Time:                        14:12:21   Log-Likelihood:                -40.112\n",
      "No. Observations:                  32   AIC:                             90.22\n",
      "Df Residuals:                      27   BIC:                             97.55\n",
      "Df Model:                           4                                         \n",
      "Covariance Type:            nonrobust                                         \n",
      "============================================================================================\n",
      "                               coef    std err          t      P>|t|      [0.025      0.975]\n",
      "--------------------------------------------------------------------------------------------\n",
      "Intercept                    4.1318      0.664      6.222      0.000       2.769       5.494\n",
      "num_cups_today[T.2 cups]     0.4202      0.348      1.208      0.238      -0.294       1.134\n",
      "num_cups_today[T.3 cups]     0.6723      0.713      0.943      0.354      -0.791       2.136\n",
      "treatment                   -0.0380      0.343     -0.111      0.913      -0.742       0.666\n",
      "hrs_since_woke              -0.0507      0.087     -0.586      0.563      -0.228       0.127\n",
      "==============================================================================\n",
      "Omnibus:                        0.780   Durbin-Watson:                   2.036\n",
      "Prob(Omnibus):                  0.677   Jarque-Bera (JB):                0.826\n",
      "Skew:                          -0.232   Prob(JB):                        0.662\n",
      "Kurtosis:                       2.364   Cond. No.                         35.0\n",
      "==============================================================================\n",
      "\n",
      "Notes:\n",
      "[1] Standard Errors assume that the covariance matrix of the errors is correctly specified.\n",
      "\n",
      "\n",
      "                            OLS Regression Results                            \n",
      "==============================================================================\n",
      "Dep. Variable:        difficult_score   R-squared:                       0.075\n",
      "Model:                            OLS   Adj. R-squared:                 -0.062\n",
      "Method:                 Least Squares   F-statistic:                    0.5486\n",
      "Date:                Mon, 14 Apr 2025   Prob (F-statistic):              0.702\n",
      "Time:                        14:12:21   Log-Likelihood:                -40.523\n",
      "No. Observations:                  32   AIC:                             91.05\n",
      "Df Residuals:                      27   BIC:                             98.37\n",
      "Df Model:                           4                                         \n",
      "Covariance Type:            nonrobust                                         \n",
      "============================================================================================\n",
      "                               coef    std err          t      P>|t|      [0.025      0.975]\n",
      "--------------------------------------------------------------------------------------------\n",
      "Intercept                    4.3276      0.673      6.434      0.000       2.947       5.708\n",
      "num_cups_today[T.2 cups]     0.0290      0.352      0.082      0.935      -0.694       0.752\n",
      "num_cups_today[T.3 cups]     0.4538      0.722      0.628      0.535      -1.028       1.936\n",
      "treatment                   -0.3685      0.348     -1.060      0.298      -1.082       0.345\n",
      "hrs_since_woke              -0.0469      0.088     -0.535      0.597      -0.227       0.133\n",
      "==============================================================================\n",
      "Omnibus:                        0.651   Durbin-Watson:                   1.575\n",
      "Prob(Omnibus):                  0.722   Jarque-Bera (JB):                0.728\n",
      "Skew:                          -0.286   Prob(JB):                        0.695\n",
      "Kurtosis:                       2.532   Cond. No.                         35.0\n",
      "==============================================================================\n",
      "\n",
      "Notes:\n",
      "[1] Standard Errors assume that the covariance matrix of the errors is correctly specified.\n",
      "\n",
      "\n",
      "                            OLS Regression Results                            \n",
      "==============================================================================\n",
      "Dep. Variable:         physical_score   R-squared:                       0.080\n",
      "Model:                            OLS   Adj. R-squared:                 -0.056\n",
      "Method:                 Least Squares   F-statistic:                    0.5900\n",
      "Date:                Mon, 14 Apr 2025   Prob (F-statistic):              0.673\n",
      "Time:                        14:12:21   Log-Likelihood:                -35.619\n",
      "No. Observations:                  32   AIC:                             81.24\n",
      "Df Residuals:                      27   BIC:                             88.57\n",
      "Df Model:                           4                                         \n",
      "Covariance Type:            nonrobust                                         \n",
      "============================================================================================\n",
      "                               coef    std err          t      P>|t|      [0.025      0.975]\n",
      "--------------------------------------------------------------------------------------------\n",
      "Intercept                    4.5875      0.577      7.950      0.000       3.403       5.772\n",
      "num_cups_today[T.2 cups]     0.1213      0.302      0.401      0.692      -0.499       0.742\n",
      "num_cups_today[T.3 cups]     0.0507      0.620      0.082      0.935      -1.221       1.322\n",
      "treatment                   -0.2131      0.298     -0.715      0.481      -0.825       0.399\n",
      "hrs_since_woke              -0.1064      0.075     -1.415      0.169      -0.261       0.048\n",
      "==============================================================================\n",
      "Omnibus:                        1.032   Durbin-Watson:                   1.767\n",
      "Prob(Omnibus):                  0.597   Jarque-Bera (JB):                0.774\n",
      "Skew:                          -0.372   Prob(JB):                        0.679\n",
      "Kurtosis:                       2.838   Cond. No.                         35.0\n",
      "==============================================================================\n",
      "\n",
      "Notes:\n",
      "[1] Standard Errors assume that the covariance matrix of the errors is correctly specified.\n",
      "\n",
      "\n"
     ]
    }
   ],
   "source": [
    "# basic regression on each individual score as dependent variable\n",
    "for outcome in ['awake_score', 'difficult_score','physical_score']:\n",
    "    model = smf.ols(str(outcome)+\" ~ treatment + hrs_since_woke + num_cups_today\", data=df).fit()\n",
    "    print(model.summary())\n",
    "    print('\\n')"
   ]
  },
  {
   "cell_type": "code",
   "execution_count": 133,
   "metadata": {},
   "outputs": [
    {
     "data": {
      "text/plain": [
       "<Axes: xlabel='treatment', ylabel='alert_index_score'>"
      ]
     },
     "execution_count": 133,
     "metadata": {},
     "output_type": "execute_result"
    },
    {
     "data": {
      "image/png": "[encoded data removed]",
      "text/plain": [
       "<Figure size 640x480 with 1 Axes>"
      ]
     },
     "metadata": {},
     "output_type": "display_data"
    }
   ],
   "source": [
    "sns.boxplot(x='treatment', y='alert_index_score', data=df)\n",
    "sns.stripplot(x='treatment', y='alert_index_score', data=df, color='black', alpha=0.5)"
   ]
  },
  {
   "cell_type": "code",
   "execution_count": 130,
   "metadata": {},
   "outputs": [
    {
     "name": "stdout",
     "output_type": "stream",
     "text": [
      "                            OLS Regression Results                            \n",
      "==============================================================================\n",
      "Dep. Variable:      alert_index_score   R-squared:                       0.865\n",
      "Model:                            OLS   Adj. R-squared:                  0.164\n",
      "Method:                 Least Squares   F-statistic:                     1.233\n",
      "Date:                Mon, 14 Apr 2025   Prob (F-statistic):              0.447\n",
      "Time:                        14:03:30   Log-Likelihood:                -40.192\n",
      "No. Observations:                  32   AIC:                             134.4\n",
      "Df Residuals:                       5   BIC:                             174.0\n",
      "Df Model:                          26                                         \n",
      "Covariance Type:            nonrobust                                         \n",
      "====================================================================================================\n",
      "                                       coef    std err          t      P>|t|      [0.025      0.975]\n",
      "----------------------------------------------------------------------------------------------------\n",
      "Intercept                           10.9000      2.039      5.345      0.003       5.658      16.142\n",
      "num_cups_today[T.2 cups]             1.1818      1.623      0.728      0.499      -2.991       5.354\n",
      "num_cups_today[T.3 cups]             1.4000      1.695      0.826      0.447      -2.958       5.758\n",
      "C(Name)[T.Aatif]                    -3.5000      2.632     -1.330      0.241     -10.267       3.267\n",
      "C(Name)[T.Aatif Shah]                1.9182      2.166      0.885      0.416      -3.650       7.487\n",
      "C(Name)[T.Affan Hussain]             3.3000      2.254      1.464      0.203      -2.495       9.095\n",
      "C(Name)[T.Akshay]                    0.6182      1.502      0.412      0.698      -3.243       4.480\n",
      "C(Name)[T.Al]                        3.3182      2.127      1.560      0.180      -2.150       8.786\n",
      "C(Name)[T.Amany Alshibli]            0.9182      2.166      0.424      0.689      -4.650       6.487\n",
      "C(Name)[T.Anni Yao]                  2.5000      2.632      0.950      0.386      -4.267       9.267\n",
      "C(Name)[T.Armine]                   -1.0818      2.166     -0.499      0.639      -6.650       4.487\n",
      "C(Name)[T.Brian T]                  -0.6818      2.127     -0.321      0.762      -6.150       4.786\n",
      "C(Name)[T.Cecille]                  -2.6818      2.127     -1.261      0.263      -8.150       2.786\n",
      "C(Name)[T.Cecille ]               1.316e-16    6.8e-16      0.194      0.854   -1.62e-15    1.88e-15\n",
      "C(Name)[T.Chris Tam]                -1.3000      1.740     -0.747      0.489      -5.774       3.174\n",
      "C(Name)[T.David Ye]                 -1.7000      2.254     -0.754      0.485      -7.495       4.095\n",
      "C(Name)[T.Essam Rao]                 1.1000      2.963      0.371      0.726      -6.516       8.716\n",
      "C(Name)[T.Farah Syed]                1.1000      2.963      0.371      0.726      -6.516       8.716\n",
      "C(Name)[T.ISHTIAQUE M]            6.776e-16   6.78e-16      1.000      0.363   -1.06e-15    2.42e-15\n",
      "C(Name)[T.Jonathan Sovan Nguyen]     2.1000      2.963      0.709      0.510      -5.516       9.716\n",
      "C(Name)[T.Joshua Laferriere]         2.7000      1.740      1.551      0.181      -1.774       7.174\n",
      "C(Name)[T.Jujhar Bedi]            6.125e-16   3.81e-16      1.609      0.169   -3.66e-16    1.59e-15\n",
      "C(Name)[T.Katrina]                   1.1000      2.963      0.371      0.726      -6.516       8.716\n",
      "C(Name)[T.Mohsin Haider]            -2.3818      1.502     -1.586      0.174      -6.243       1.480\n",
      "C(Name)[T.Rand]                     -1.6818      2.127     -0.791      0.465      -7.150       3.786\n",
      "C(Name)[T.Rand Khasawneh ]          -1.9000      2.963     -0.641      0.550      -9.516       5.716\n",
      "C(Name)[T.Raymond Lee]             -1.1e-16    4.8e-16     -0.229      0.828   -1.34e-15    1.12e-15\n",
      "C(Name)[T.Reetu Gupta]            1.716e-16   2.94e-16      0.584      0.584   -5.83e-16    9.26e-16\n",
      "C(Name)[T.Sai Sharath]            1.037e-16   8.44e-17      1.230      0.274   -1.13e-16    3.21e-16\n",
      "C(Name)[T.Sean Huynh]                2.9182      2.166      1.347      0.236      -2.650       8.487\n",
      "C(Name)[T.Sophia]                   -1.9000      2.963     -0.641      0.550      -9.516       5.716\n",
      "C(Name)[T.Tony Ma]                   4.5000      2.632      1.709      0.148      -2.267      11.267\n",
      "C(Name)[T.Yusuke Sato]               0.3000      2.254      0.133      0.899      -5.495       6.095\n",
      "C(Name)[T.amit bhattacharyya]             0          0        nan        nan           0           0\n",
      "C(Name)[T.nazik]                     3.5000      2.632      1.330      0.241      -3.267      10.267\n",
      "treatment                           -0.4000      1.359     -0.294      0.780      -3.894       3.094\n",
      "==============================================================================\n",
      "Omnibus:                       12.202   Durbin-Watson:                   1.906\n",
      "Prob(Omnibus):                  0.002   Jarque-Bera (JB):               39.031\n",
      "Skew:                           0.000   Prob(JB):                     3.35e-09\n",
      "Kurtosis:                       8.410   Cond. No.                     1.54e+18\n",
      "==============================================================================\n",
      "\n",
      "Notes:\n",
      "[1] Standard Errors assume that the covariance matrix of the errors is correctly specified.\n",
      "[2] The input rank is higher than the number of observations.\n",
      "[3] The smallest eigenvalue is 2.01e-35. This might indicate that there are\n",
      "strong multicollinearity problems or that the design matrix is singular.\n"
     ]
    }
   ],
   "source": [
    "model = smf.ols(\"alert_index_score ~ treatment + num_cups_today + C(Name)\", data=df).fit()\n",
    "print(model.summary())"
   ]
  },
  {
   "cell_type": "code",
   "execution_count": 132,
   "metadata": {},
   "outputs": [
    {
     "ename": "IndexError",
     "evalue": "index 39 is out of bounds for axis 0 with size 32",
     "output_type": "error",
     "traceback": [
      "\u001b[1;31m---------------------------------------------------------------------------\u001b[0m",
      "\u001b[1;31mIndexError\u001b[0m                                Traceback (most recent call last)",
      "Cell \u001b[1;32mIn[132], line 1\u001b[0m\n\u001b[1;32m----> 1\u001b[0m model \u001b[38;5;241m=\u001b[39m \u001b[43msmf\u001b[49m\u001b[38;5;241;43m.\u001b[39;49m\u001b[43mmixedlm\u001b[49m\u001b[43m(\u001b[49m\u001b[38;5;124;43m\"\u001b[39;49m\u001b[38;5;124;43malert_index_score ~ treatment + num_cups_today\u001b[39;49m\u001b[38;5;124;43m\"\u001b[39;49m\u001b[43m,\u001b[49m\u001b[43m \u001b[49m\u001b[43mdata\u001b[49m\u001b[38;5;241;43m=\u001b[39;49m\u001b[43mdf\u001b[49m\u001b[43m,\u001b[49m\u001b[43m \u001b[49m\u001b[43mgroups\u001b[49m\u001b[38;5;241;43m=\u001b[39;49m\u001b[43mdf\u001b[49m\u001b[43m[\u001b[49m\u001b[38;5;124;43m\"\u001b[39;49m\u001b[38;5;124;43mName\u001b[39;49m\u001b[38;5;124;43m\"\u001b[39;49m\u001b[43m]\u001b[49m\u001b[43m)\u001b[49m\n\u001b[0;32m      2\u001b[0m result \u001b[38;5;241m=\u001b[39m model\u001b[38;5;241m.\u001b[39mfit()\n\u001b[0;32m      3\u001b[0m \u001b[38;5;28mprint\u001b[39m(result\u001b[38;5;241m.\u001b[39msummary())\n",
      "File \u001b[1;32m~\\AppData\\Local\\Packages\\PythonSoftwareFoundation.Python.3.11_qbz5n2kfra8p0\\LocalCache\\local-packages\\Python311\\site-packages\\statsmodels\\regression\\mixed_linear_model.py:1046\u001b[0m, in \u001b[0;36mMixedLM.from_formula\u001b[1;34m(cls, formula, data, re_formula, vc_formula, subset, use_sparse, missing, *args, **kwargs)\u001b[0m\n\u001b[0;32m   1044\u001b[0m kwargs[\u001b[38;5;124m\"\u001b[39m\u001b[38;5;124mexog_vc\u001b[39m\u001b[38;5;124m\"\u001b[39m] \u001b[38;5;241m=\u001b[39m exog_vc\n\u001b[0;32m   1045\u001b[0m kwargs[\u001b[38;5;124m\"\u001b[39m\u001b[38;5;124mgroups\u001b[39m\u001b[38;5;124m\"\u001b[39m] \u001b[38;5;241m=\u001b[39m groups\n\u001b[1;32m-> 1046\u001b[0m mod \u001b[38;5;241m=\u001b[39m \u001b[38;5;28;43msuper\u001b[39;49m\u001b[43m(\u001b[49m\u001b[43m)\u001b[49m\u001b[38;5;241;43m.\u001b[39;49m\u001b[43mfrom_formula\u001b[49m\u001b[43m(\u001b[49m\u001b[43mformula\u001b[49m\u001b[43m,\u001b[49m\u001b[43m \u001b[49m\u001b[43mdata\u001b[49m\u001b[43m,\u001b[49m\u001b[43m \u001b[49m\u001b[38;5;241;43m*\u001b[39;49m\u001b[43margs\u001b[49m\u001b[43m,\u001b[49m\u001b[43m \u001b[49m\u001b[38;5;241;43m*\u001b[39;49m\u001b[38;5;241;43m*\u001b[39;49m\u001b[43mkwargs\u001b[49m\u001b[43m)\u001b[49m\n\u001b[0;32m   1048\u001b[0m \u001b[38;5;66;03m# expand re names to account for pairs of RE\u001b[39;00m\n\u001b[0;32m   1049\u001b[0m (param_names,\n\u001b[0;32m   1050\u001b[0m  exog_re_names,\n\u001b[0;32m   1051\u001b[0m  exog_re_names_full) \u001b[38;5;241m=\u001b[39m mod\u001b[38;5;241m.\u001b[39m_make_param_names(exog_re_names)\n",
      "File \u001b[1;32m~\\AppData\\Local\\Packages\\PythonSoftwareFoundation.Python.3.11_qbz5n2kfra8p0\\LocalCache\\local-packages\\Python311\\site-packages\\statsmodels\\base\\model.py:229\u001b[0m, in \u001b[0;36mModel.from_formula\u001b[1;34m(cls, formula, data, subset, drop_cols, *args, **kwargs)\u001b[0m\n\u001b[0;32m    223\u001b[0m         design_info \u001b[38;5;241m=\u001b[39m design_info\u001b[38;5;241m.\u001b[39msubset(cols)\n\u001b[0;32m    225\u001b[0m kwargs\u001b[38;5;241m.\u001b[39mupdate({\u001b[38;5;124m'\u001b[39m\u001b[38;5;124mmissing_idx\u001b[39m\u001b[38;5;124m'\u001b[39m: missing_idx,\n\u001b[0;32m    226\u001b[0m                \u001b[38;5;124m'\u001b[39m\u001b[38;5;124mmissing\u001b[39m\u001b[38;5;124m'\u001b[39m: missing,\n\u001b[0;32m    227\u001b[0m                \u001b[38;5;124m'\u001b[39m\u001b[38;5;124mformula\u001b[39m\u001b[38;5;124m'\u001b[39m: formula,  \u001b[38;5;66;03m# attach formula for unpckling\u001b[39;00m\n\u001b[0;32m    228\u001b[0m                \u001b[38;5;124m'\u001b[39m\u001b[38;5;124mdesign_info\u001b[39m\u001b[38;5;124m'\u001b[39m: design_info})\n\u001b[1;32m--> 229\u001b[0m mod \u001b[38;5;241m=\u001b[39m \u001b[38;5;28;43mcls\u001b[39;49m\u001b[43m(\u001b[49m\u001b[43mendog\u001b[49m\u001b[43m,\u001b[49m\u001b[43m \u001b[49m\u001b[43mexog\u001b[49m\u001b[43m,\u001b[49m\u001b[43m \u001b[49m\u001b[38;5;241;43m*\u001b[39;49m\u001b[43margs\u001b[49m\u001b[43m,\u001b[49m\u001b[43m \u001b[49m\u001b[38;5;241;43m*\u001b[39;49m\u001b[38;5;241;43m*\u001b[39;49m\u001b[43mkwargs\u001b[49m\u001b[43m)\u001b[49m\n\u001b[0;32m    230\u001b[0m mod\u001b[38;5;241m.\u001b[39mformula \u001b[38;5;241m=\u001b[39m formula\n\u001b[0;32m    231\u001b[0m \u001b[38;5;66;03m# since we got a dataframe, attach the original\u001b[39;00m\n",
      "File \u001b[1;32m~\\AppData\\Local\\Packages\\PythonSoftwareFoundation.Python.3.11_qbz5n2kfra8p0\\LocalCache\\local-packages\\Python311\\site-packages\\statsmodels\\regression\\mixed_linear_model.py:803\u001b[0m, in \u001b[0;36mMixedLM.__init__\u001b[1;34m(self, endog, exog, groups, exog_re, exog_vc, use_sqrt, missing, **kwargs)\u001b[0m\n\u001b[0;32m    800\u001b[0m \u001b[38;5;28mself\u001b[39m\u001b[38;5;241m.\u001b[39mn_groups \u001b[38;5;241m=\u001b[39m \u001b[38;5;28mlen\u001b[39m(\u001b[38;5;28mself\u001b[39m\u001b[38;5;241m.\u001b[39mgroup_labels)\n\u001b[0;32m    802\u001b[0m \u001b[38;5;66;03m# Split the data by groups\u001b[39;00m\n\u001b[1;32m--> 803\u001b[0m \u001b[38;5;28mself\u001b[39m\u001b[38;5;241m.\u001b[39mendog_li \u001b[38;5;241m=\u001b[39m \u001b[38;5;28;43mself\u001b[39;49m\u001b[38;5;241;43m.\u001b[39;49m\u001b[43mgroup_list\u001b[49m\u001b[43m(\u001b[49m\u001b[38;5;28;43mself\u001b[39;49m\u001b[38;5;241;43m.\u001b[39;49m\u001b[43mendog\u001b[49m\u001b[43m)\u001b[49m\n\u001b[0;32m    804\u001b[0m \u001b[38;5;28mself\u001b[39m\u001b[38;5;241m.\u001b[39mexog_li \u001b[38;5;241m=\u001b[39m \u001b[38;5;28mself\u001b[39m\u001b[38;5;241m.\u001b[39mgroup_list(\u001b[38;5;28mself\u001b[39m\u001b[38;5;241m.\u001b[39mexog)\n\u001b[0;32m    805\u001b[0m \u001b[38;5;28mself\u001b[39m\u001b[38;5;241m.\u001b[39mexog_re_li \u001b[38;5;241m=\u001b[39m \u001b[38;5;28mself\u001b[39m\u001b[38;5;241m.\u001b[39mgroup_list(\u001b[38;5;28mself\u001b[39m\u001b[38;5;241m.\u001b[39mexog_re)\n",
      "File \u001b[1;32m~\\AppData\\Local\\Packages\\PythonSoftwareFoundation.Python.3.11_qbz5n2kfra8p0\\LocalCache\\local-packages\\Python311\\site-packages\\statsmodels\\regression\\mixed_linear_model.py:1103\u001b[0m, in \u001b[0;36mMixedLM.group_list\u001b[1;34m(self, array)\u001b[0m\n\u001b[0;32m   1100\u001b[0m     \u001b[38;5;28;01mreturn\u001b[39;00m \u001b[38;5;28;01mNone\u001b[39;00m\n\u001b[0;32m   1102\u001b[0m \u001b[38;5;28;01mif\u001b[39;00m array\u001b[38;5;241m.\u001b[39mndim \u001b[38;5;241m==\u001b[39m \u001b[38;5;241m1\u001b[39m:\n\u001b[1;32m-> 1103\u001b[0m     \u001b[38;5;28;01mreturn\u001b[39;00m \u001b[43m[\u001b[49m\u001b[43mnp\u001b[49m\u001b[38;5;241;43m.\u001b[39;49m\u001b[43marray\u001b[49m\u001b[43m(\u001b[49m\u001b[43marray\u001b[49m\u001b[43m[\u001b[49m\u001b[38;5;28;43mself\u001b[39;49m\u001b[38;5;241;43m.\u001b[39;49m\u001b[43mrow_indices\u001b[49m\u001b[43m[\u001b[49m\u001b[43mk\u001b[49m\u001b[43m]\u001b[49m\u001b[43m]\u001b[49m\u001b[43m)\u001b[49m\n\u001b[0;32m   1104\u001b[0m \u001b[43m            \u001b[49m\u001b[38;5;28;43;01mfor\u001b[39;49;00m\u001b[43m \u001b[49m\u001b[43mk\u001b[49m\u001b[43m \u001b[49m\u001b[38;5;129;43;01min\u001b[39;49;00m\u001b[43m \u001b[49m\u001b[38;5;28;43mself\u001b[39;49m\u001b[38;5;241;43m.\u001b[39;49m\u001b[43mgroup_labels\u001b[49m\u001b[43m]\u001b[49m\n\u001b[0;32m   1105\u001b[0m \u001b[38;5;28;01melse\u001b[39;00m:\n\u001b[0;32m   1106\u001b[0m     \u001b[38;5;28;01mreturn\u001b[39;00m [np\u001b[38;5;241m.\u001b[39marray(array[\u001b[38;5;28mself\u001b[39m\u001b[38;5;241m.\u001b[39mrow_indices[k], :])\n\u001b[0;32m   1107\u001b[0m             \u001b[38;5;28;01mfor\u001b[39;00m k \u001b[38;5;129;01min\u001b[39;00m \u001b[38;5;28mself\u001b[39m\u001b[38;5;241m.\u001b[39mgroup_labels]\n",
      "File \u001b[1;32m~\\AppData\\Local\\Packages\\PythonSoftwareFoundation.Python.3.11_qbz5n2kfra8p0\\LocalCache\\local-packages\\Python311\\site-packages\\statsmodels\\regression\\mixed_linear_model.py:1103\u001b[0m, in \u001b[0;36m<listcomp>\u001b[1;34m(.0)\u001b[0m\n\u001b[0;32m   1100\u001b[0m     \u001b[38;5;28;01mreturn\u001b[39;00m \u001b[38;5;28;01mNone\u001b[39;00m\n\u001b[0;32m   1102\u001b[0m \u001b[38;5;28;01mif\u001b[39;00m array\u001b[38;5;241m.\u001b[39mndim \u001b[38;5;241m==\u001b[39m \u001b[38;5;241m1\u001b[39m:\n\u001b[1;32m-> 1103\u001b[0m     \u001b[38;5;28;01mreturn\u001b[39;00m [np\u001b[38;5;241m.\u001b[39marray(\u001b[43marray\u001b[49m\u001b[43m[\u001b[49m\u001b[38;5;28;43mself\u001b[39;49m\u001b[38;5;241;43m.\u001b[39;49m\u001b[43mrow_indices\u001b[49m\u001b[43m[\u001b[49m\u001b[43mk\u001b[49m\u001b[43m]\u001b[49m\u001b[43m]\u001b[49m)\n\u001b[0;32m   1104\u001b[0m             \u001b[38;5;28;01mfor\u001b[39;00m k \u001b[38;5;129;01min\u001b[39;00m \u001b[38;5;28mself\u001b[39m\u001b[38;5;241m.\u001b[39mgroup_labels]\n\u001b[0;32m   1105\u001b[0m \u001b[38;5;28;01melse\u001b[39;00m:\n\u001b[0;32m   1106\u001b[0m     \u001b[38;5;28;01mreturn\u001b[39;00m [np\u001b[38;5;241m.\u001b[39marray(array[\u001b[38;5;28mself\u001b[39m\u001b[38;5;241m.\u001b[39mrow_indices[k], :])\n\u001b[0;32m   1107\u001b[0m             \u001b[38;5;28;01mfor\u001b[39;00m k \u001b[38;5;129;01min\u001b[39;00m \u001b[38;5;28mself\u001b[39m\u001b[38;5;241m.\u001b[39mgroup_labels]\n",
      "\u001b[1;31mIndexError\u001b[0m: index 39 is out of bounds for axis 0 with size 32"
     ]
    }
   ],
   "source": [
    "model = smf.mixedlm(\"alert_index_score ~ treatment + num_cups_today\", data=df, groups=df[\"Name\"])\n",
    "result = model.fit()\n",
    "print(result.summary())"
   ]
  },
  {
   "cell_type": "code",
   "execution_count": null,
   "metadata": {},
   "outputs": [],
   "source": [
    "!pip install graphviz"
   ]
  },
  {
   "cell_type": "code",
   "execution_count": 138,
   "metadata": {},
   "outputs": [
    {
     "ename": "ModuleNotFoundError",
     "evalue": "No module named 'graphviz'",
     "output_type": "error",
     "traceback": [
      "\u001b[1;31m---------------------------------------------------------------------------\u001b[0m",
      "\u001b[1;31mModuleNotFoundError\u001b[0m                       Traceback (most recent call last)",
      "Cell \u001b[1;32mIn[138], line 1\u001b[0m\n\u001b[1;32m----> 1\u001b[0m \u001b[38;5;28;01mfrom\u001b[39;00m \u001b[38;5;21;01mgraphviz\u001b[39;00m \u001b[38;5;28;01mimport\u001b[39;00m Digraph\n\u001b[0;32m      3\u001b[0m dot \u001b[38;5;241m=\u001b[39m Digraph()\n\u001b[0;32m      5\u001b[0m \u001b[38;5;66;03m# Define nodes\u001b[39;00m\n",
      "\u001b[1;31mModuleNotFoundError\u001b[0m: No module named 'graphviz'"
     ]
    }
   ],
   "source": [
    "from graphviz import Digraph\n",
    "\n",
    "dot = Digraph()\n",
    "\n",
    "# Define nodes\n",
    "dot.node('A', 'Start')\n",
    "dot.node('B', 'Assign to Control or Treatment')\n",
    "dot.node('C', 'Wait ~6 Hours')\n",
    "dot.node('D', 'Take Alertness Survey')\n",
    "dot.node('E', 'Analyze Results')\n",
    "\n",
    "# Define edges (flow)\n",
    "dot.edges(['AB', 'BC', 'CD', 'DE'])\n",
    "\n",
    "# Render (in notebook or save as file)\n",
    "dot.render('flow_diagram', format='png', cleanup=True)\n",
    "dot.view()"
   ]
  },
  {
   "cell_type": "code",
   "execution_count": null,
   "metadata": {},
   "outputs": [],
   "source": []
  }
 ],
 "metadata": {
  "kernelspec": {
   "display_name": "Python 3",
   "language": "python",
   "name": "python3"
  },
  "language_info": {
   "codemirror_mode": {
    "name": "ipython",
    "version": 3
   },
   "file_extension": ".py",
   "mimetype": "text/x-python",
   "name": "python",
   "nbconvert_exporter": "python",
   "pygments_lexer": "ipython3",
   "version": "3.11.9"
  }
 },
 "nbformat": 4,
 "nbformat_minor": 2
}
