{
 "cells": [
  {
   "cell_type": "code",
   "execution_count": 209,
   "metadata": {},
   "outputs": [],
   "source": [
    "# standard\n",
    "import pandas as pd\n",
    "import numpy as np\n",
    "import random\n",
    "import os\n",
    "\n",
    "# tf and keras\n",
    "# import tensorflow as tf\n",
    "# from keras import models\n",
    "# from keras import layers\n",
    "\n",
    "# # sklearn\n",
    "# from sklearn.metrics import accuracy_score\n",
    "# from sklearn.metrics import confusion_matrix, ConfusionMatrixDisplay\n",
    "# from sklearn.metrics import classification_report, roc_auc_score, RocCurveDisplay\n",
    "# from sklearn.model_selection import train_test_split, GridSearchCV\n",
    "# from sklearn.preprocessing import StandardScaler\n",
    "# from sklearn.linear_model import LogisticRegression\n",
    "# from sklearn.ensemble import RandomForestClassifier\n",
    "# from xgboost import XGBClassifier\n",
    "\n",
    "# plots\n",
    "import seaborn as sns\n",
    "import matplotlib.pyplot as plt\n",
    "\n",
    "# To ignore warnings\n",
    "import warnings\n",
    "warnings.filterwarnings('ignore')"
   ]
  },
  {
   "cell_type": "code",
   "execution_count": 210,
   "metadata": {},
   "outputs": [
    {
     "data": {
      "text/html": [
       "<div>\n",
       "<style scoped>\n",
       "    .dataframe tbody tr th:only-of-type {\n",
       "        vertical-align: middle;\n",
       "    }\n",
       "\n",
       "    .dataframe tbody tr th {\n",
       "        vertical-align: top;\n",
       "    }\n",
       "\n",
       "    .dataframe thead th {\n",
       "        text-align: right;\n",
       "    }\n",
       "</style>\n",
       "<table border=\"1\" class=\"dataframe\">\n",
       "  <thead>\n",
       "    <tr style=\"text-align: right;\">\n",
       "      <th></th>\n",
       "      <th>Timestamp</th>\n",
       "      <th>Name</th>\n",
       "      <th>Email</th>\n",
       "      <th>Do you drink at least one cup of coffee 4 times a week?</th>\n",
       "      <th>What time did you wake up this morning?</th>\n",
       "      <th>What time did you drink your coffee?\\n\\n- A) On day 1 you need to drink coffee 20 minutes after waking up.\\n\\n- B) On day 2 you need to drink coffee 2 hours after waking up.\\n\\nIf you skipped this time interval, please don't submit the form.</th>\n",
       "      <th>How many hours has it been since you woke up?\\n\\nFor testing accuracy, please complete this survey 6 hours after waking up. \\n\\nIf you're filling it out earlier or later than 6 hours after waking up, that's okay—just be honest in your response 😉.</th>\n",
       "      <th>How awake do you feel right now? (scale 1-5)</th>\n",
       "      <th>How difficult was it to focus on tasks today?  (scale 1-5)</th>\n",
       "      <th>How physically tired do you feel right now?   (scale 1-5)</th>\n",
       "      <th>How much coffee did you drink today?</th>\n",
       "      <th>Did you notice any differences in your alertness today compared to yesterday? (Open-ended)</th>\n",
       "      <th>Any additional comments about your experience with drinking coffee at this time? (Open-ended)</th>\n",
       "    </tr>\n",
       "  </thead>\n",
       "  <tbody>\n",
       "    <tr>\n",
       "      <th>0</th>\n",
       "      <td>3/2/2025 1:09:36</td>\n",
       "      <td>ISHTIAQUE M</td>\n",
       "      <td>IM332@CORNELL.EDU</td>\n",
       "      <td>Yes</td>\n",
       "      <td>7:00:00 AM</td>\n",
       "      <td>8:00:00 AM</td>\n",
       "      <td>5.85</td>\n",
       "      <td>4 = Mostly awake (can focus on most tasks)</td>\n",
       "      <td>4 = Easy (can focus with little effort)</td>\n",
       "      <td>4 = Slightly tired (little fatigue, feel mostl...</td>\n",
       "      <td>NaN</td>\n",
       "      <td>NaN</td>\n",
       "      <td>NaN</td>\n",
       "    </tr>\n",
       "    <tr>\n",
       "      <th>1</th>\n",
       "      <td>3/2/2025 9:33:20</td>\n",
       "      <td>amit bhattacharyya</td>\n",
       "      <td>aabtzu@berkeley.edu</td>\n",
       "      <td>Yes</td>\n",
       "      <td>8:00:00 AM</td>\n",
       "      <td>8:30:00 AM</td>\n",
       "      <td>1.56</td>\n",
       "      <td>5 = Fully alert (completely awake)</td>\n",
       "      <td>4 = Easy (can focus with little effort)</td>\n",
       "      <td>5 = Not tired at all (feel fresh and strong)</td>\n",
       "      <td>NaN</td>\n",
       "      <td>NaN</td>\n",
       "      <td>NaN</td>\n",
       "    </tr>\n",
       "    <tr>\n",
       "      <th>2</th>\n",
       "      <td>3/2/2025 13:26:32</td>\n",
       "      <td>Sai Sharath</td>\n",
       "      <td>Saisupriyasharath@gmail.com</td>\n",
       "      <td>Yes</td>\n",
       "      <td>7:15:00 AM</td>\n",
       "      <td>8:45:00 AM</td>\n",
       "      <td>3.00</td>\n",
       "      <td>4 = Mostly awake (can focus on most tasks)</td>\n",
       "      <td>4 = Easy (can focus with little effort)</td>\n",
       "      <td>4 = Slightly tired (little fatigue, feel mostl...</td>\n",
       "      <td>NaN</td>\n",
       "      <td>NaN</td>\n",
       "      <td>NaN</td>\n",
       "    </tr>\n",
       "    <tr>\n",
       "      <th>3</th>\n",
       "      <td>3/2/2025 15:11:43</td>\n",
       "      <td>Reetu Gupta</td>\n",
       "      <td>reetu.gupta@gmail.com</td>\n",
       "      <td>Yes</td>\n",
       "      <td>6:00:00 AM</td>\n",
       "      <td>6:10:00 AM</td>\n",
       "      <td>6.16</td>\n",
       "      <td>3 = Moderately awake (functioning but tired)</td>\n",
       "      <td>3 = Somewhat difficult (can focus but get side...</td>\n",
       "      <td>3 = Somewhat tired (feel fatigue but can be ac...</td>\n",
       "      <td>NaN</td>\n",
       "      <td>NaN</td>\n",
       "      <td>NaN</td>\n",
       "    </tr>\n",
       "    <tr>\n",
       "      <th>4</th>\n",
       "      <td>3/2/2025 18:20:48</td>\n",
       "      <td>Raymond Lee</td>\n",
       "      <td>raymondleemids@berkeley.edu</td>\n",
       "      <td>Yes</td>\n",
       "      <td>9:15:00 AM</td>\n",
       "      <td>9:30:00 AM</td>\n",
       "      <td>6.00</td>\n",
       "      <td>5 = Fully alert (completely awake)</td>\n",
       "      <td>5 = Very easy (no distractions, fully productive)</td>\n",
       "      <td>5 = Not tired at all (feel fresh and strong)</td>\n",
       "      <td>NaN</td>\n",
       "      <td>NaN</td>\n",
       "      <td>NaN</td>\n",
       "    </tr>\n",
       "  </tbody>\n",
       "</table>\n",
       "</div>"
      ],
      "text/plain": [
       "           Timestamp                Name                        Email  \\\n",
       "0   3/2/2025 1:09:36         ISHTIAQUE M            IM332@CORNELL.EDU   \n",
       "1   3/2/2025 9:33:20  amit bhattacharyya          aabtzu@berkeley.edu   \n",
       "2  3/2/2025 13:26:32         Sai Sharath  Saisupriyasharath@gmail.com   \n",
       "3  3/2/2025 15:11:43         Reetu Gupta        reetu.gupta@gmail.com   \n",
       "4  3/2/2025 18:20:48         Raymond Lee  raymondleemids@berkeley.edu   \n",
       "\n",
       "  Do you drink at least one cup of coffee 4 times a week?  \\\n",
       "0                                                Yes        \n",
       "1                                                Yes        \n",
       "2                                                Yes        \n",
       "3                                                Yes        \n",
       "4                                                Yes        \n",
       "\n",
       "  What time did you wake up this morning?  \\\n",
       "0                              7:00:00 AM   \n",
       "1                              8:00:00 AM   \n",
       "2                              7:15:00 AM   \n",
       "3                              6:00:00 AM   \n",
       "4                              9:15:00 AM   \n",
       "\n",
       "  What time did you drink your coffee?\\n\\n- A) On day 1 you need to drink coffee 20 minutes after waking up.\\n\\n- B) On day 2 you need to drink coffee 2 hours after waking up.\\n\\nIf you skipped this time interval, please don't submit the form.  \\\n",
       "0                                         8:00:00 AM                                                                                                                                                                                                  \n",
       "1                                         8:30:00 AM                                                                                                                                                                                                  \n",
       "2                                         8:45:00 AM                                                                                                                                                                                                  \n",
       "3                                         6:10:00 AM                                                                                                                                                                                                  \n",
       "4                                         9:30:00 AM                                                                                                                                                                                                  \n",
       "\n",
       "   How many hours has it been since you woke up?\\n\\nFor testing accuracy, please complete this survey 6 hours after waking up. \\n\\nIf you're filling it out earlier or later than 6 hours after waking up, that's okay—just be honest in your response 😉.   \\\n",
       "0                                               5.85                                                                                                                                                                                                         \n",
       "1                                               1.56                                                                                                                                                                                                         \n",
       "2                                               3.00                                                                                                                                                                                                         \n",
       "3                                               6.16                                                                                                                                                                                                         \n",
       "4                                               6.00                                                                                                                                                                                                         \n",
       "\n",
       "   How awake do you feel right now? (scale 1-5)  \\\n",
       "0    4 = Mostly awake (can focus on most tasks)   \n",
       "1            5 = Fully alert (completely awake)   \n",
       "2    4 = Mostly awake (can focus on most tasks)   \n",
       "3  3 = Moderately awake (functioning but tired)   \n",
       "4            5 = Fully alert (completely awake)   \n",
       "\n",
       "  How difficult was it to focus on tasks today?  (scale 1-5)  \\\n",
       "0            4 = Easy (can focus with little effort)           \n",
       "1            4 = Easy (can focus with little effort)           \n",
       "2            4 = Easy (can focus with little effort)           \n",
       "3  3 = Somewhat difficult (can focus but get side...           \n",
       "4  5 = Very easy (no distractions, fully productive)           \n",
       "\n",
       "  How physically tired do you feel right now?   (scale 1-5)  \\\n",
       "0  4 = Slightly tired (little fatigue, feel mostl...          \n",
       "1       5 = Not tired at all (feel fresh and strong)          \n",
       "2  4 = Slightly tired (little fatigue, feel mostl...          \n",
       "3  3 = Somewhat tired (feel fatigue but can be ac...          \n",
       "4       5 = Not tired at all (feel fresh and strong)          \n",
       "\n",
       "  How much coffee did you drink today?   \\\n",
       "0                                   NaN   \n",
       "1                                   NaN   \n",
       "2                                   NaN   \n",
       "3                                   NaN   \n",
       "4                                   NaN   \n",
       "\n",
       "  Did you notice any differences in your alertness today compared to yesterday? (Open-ended)   \\\n",
       "0                                                NaN                                            \n",
       "1                                                NaN                                            \n",
       "2                                                NaN                                            \n",
       "3                                                NaN                                            \n",
       "4                                                NaN                                            \n",
       "\n",
       "  Any additional comments about your experience with drinking coffee at this time? (Open-ended)   \n",
       "0                                                NaN                                              \n",
       "1                                                NaN                                              \n",
       "2                                                NaN                                              \n",
       "3                                                NaN                                              \n",
       "4                                                NaN                                              "
      ]
     },
     "execution_count": 210,
     "metadata": {},
     "output_type": "execute_result"
    }
   ],
   "source": [
    "df = pd.read_csv('coffee_drinking_dataset_for_analysis.csv')\n",
    "df.head()"
   ]
  },
  {
   "cell_type": "code",
   "execution_count": 211,
   "metadata": {},
   "outputs": [
    {
     "data": {
      "text/plain": [
       "Index(['Timestamp', 'Name', 'Email',\n",
       "       'Do you drink at least one cup of coffee 4 times a week?',\n",
       "       'What time did you wake up this morning?',\n",
       "       'What time did you drink your coffee?\\n\\n- A) On day 1 you need to drink coffee 20 minutes after waking up.\\n\\n- B) On day 2 you need to drink coffee 2 hours after waking up.\\n\\nIf you skipped this time interval, please don't submit the form.',\n",
       "       'How many hours has it been since you woke up?\\n\\nFor testing accuracy, please complete this survey 6 hours after waking up. \\n\\nIf you're filling it out earlier or later than 6 hours after waking up, that's okay—just be honest in your response 😉. ',\n",
       "       'How awake do you feel right now? (scale 1-5)',\n",
       "       'How difficult was it to focus on tasks today?  (scale 1-5)',\n",
       "       'How physically tired do you feel right now?   (scale 1-5)',\n",
       "       'How much coffee did you drink today? ',\n",
       "       'Did you notice any differences in your alertness today compared to yesterday? (Open-ended) ',\n",
       "       'Any additional comments about your experience with drinking coffee at this time? (Open-ended) '],\n",
       "      dtype='object')"
      ]
     },
     "execution_count": 211,
     "metadata": {},
     "output_type": "execute_result"
    }
   ],
   "source": [
    "df.columns"
   ]
  },
  {
   "cell_type": "code",
   "execution_count": 212,
   "metadata": {},
   "outputs": [
    {
     "data": {
      "text/html": [
       "<div>\n",
       "<style scoped>\n",
       "    .dataframe tbody tr th:only-of-type {\n",
       "        vertical-align: middle;\n",
       "    }\n",
       "\n",
       "    .dataframe tbody tr th {\n",
       "        vertical-align: top;\n",
       "    }\n",
       "\n",
       "    .dataframe thead th {\n",
       "        text-align: right;\n",
       "    }\n",
       "</style>\n",
       "<table border=\"1\" class=\"dataframe\">\n",
       "  <thead>\n",
       "    <tr style=\"text-align: right;\">\n",
       "      <th></th>\n",
       "      <th>Timestamp</th>\n",
       "      <th>Name</th>\n",
       "      <th>Email</th>\n",
       "      <th>criteria_ind</th>\n",
       "      <th>wake_up_ts</th>\n",
       "      <th>drink_coffee_ts</th>\n",
       "      <th>hrs_since_woke</th>\n",
       "      <th>awake_answer</th>\n",
       "      <th>difficult_answer</th>\n",
       "      <th>physical_answer</th>\n",
       "      <th>num_cups_today</th>\n",
       "      <th>Did you notice any differences in your alertness today compared to yesterday? (Open-ended)</th>\n",
       "      <th>Any additional comments about your experience with drinking coffee at this time? (Open-ended)</th>\n",
       "    </tr>\n",
       "  </thead>\n",
       "  <tbody>\n",
       "    <tr>\n",
       "      <th>0</th>\n",
       "      <td>3/2/2025 1:09:36</td>\n",
       "      <td>ISHTIAQUE M</td>\n",
       "      <td>IM332@CORNELL.EDU</td>\n",
       "      <td>Yes</td>\n",
       "      <td>7:00:00 AM</td>\n",
       "      <td>8:00:00 AM</td>\n",
       "      <td>5.85</td>\n",
       "      <td>4 = Mostly awake (can focus on most tasks)</td>\n",
       "      <td>4 = Easy (can focus with little effort)</td>\n",
       "      <td>4 = Slightly tired (little fatigue, feel mostl...</td>\n",
       "      <td>NaN</td>\n",
       "      <td>NaN</td>\n",
       "      <td>NaN</td>\n",
       "    </tr>\n",
       "  </tbody>\n",
       "</table>\n",
       "</div>"
      ],
      "text/plain": [
       "          Timestamp         Name              Email criteria_ind  wake_up_ts  \\\n",
       "0  3/2/2025 1:09:36  ISHTIAQUE M  IM332@CORNELL.EDU          Yes  7:00:00 AM   \n",
       "\n",
       "  drink_coffee_ts  hrs_since_woke                                awake_answer  \\\n",
       "0      8:00:00 AM            5.85  4 = Mostly awake (can focus on most tasks)   \n",
       "\n",
       "                          difficult_answer  \\\n",
       "0  4 = Easy (can focus with little effort)   \n",
       "\n",
       "                                     physical_answer num_cups_today  \\\n",
       "0  4 = Slightly tired (little fatigue, feel mostl...            NaN   \n",
       "\n",
       "  Did you notice any differences in your alertness today compared to yesterday? (Open-ended)   \\\n",
       "0                                                NaN                                            \n",
       "\n",
       "  Any additional comments about your experience with drinking coffee at this time? (Open-ended)   \n",
       "0                                                NaN                                              "
      ]
     },
     "execution_count": 212,
     "metadata": {},
     "output_type": "execute_result"
    }
   ],
   "source": [
    "cols = df.columns.tolist()\n",
    "\n",
    "# Example new names for columns 5-12\n",
    "cols[3:11]= ['criteria_ind', 'wake_up_ts', 'drink_coffee_ts', 'hrs_since_woke', \n",
    "             'awake_answer', 'difficult_answer', 'physical_answer', 'num_cups_today']\n",
    "\n",
    "# Assign the new names to those specific columns\n",
    "df.columns = cols\n",
    "df.head(1)"
   ]
  },
  {
   "cell_type": "code",
   "execution_count": 213,
   "metadata": {},
   "outputs": [],
   "source": [
    "# dont need these columns\n",
    "df.drop(columns = ['Did you notice any differences in your alertness today compared to yesterday? (Open-ended) ',\n",
    "'Any additional comments about your experience with drinking coffee at this time? (Open-ended) '], inplace =True)"
   ]
  },
  {
   "cell_type": "code",
   "execution_count": 363,
   "metadata": {},
   "outputs": [
    {
     "data": {
      "text/plain": [
       "Email                         criteria_ind\n",
       "Aatifhshah@gmail.com          Yes             2\n",
       "Amileiafarah@gmail.com        Yes             1\n",
       "Armine.hakobyan@ymail.com     Yes             1\n",
       "Brian.tran2@boeing.com        Yes             1\n",
       "Derand237@gmail.com           Yes             2\n",
       "IM332@CORNELL.EDU             Yes             1\n",
       "LaferriereJC@gmail.com        Yes             1\n",
       "Saisupriyasharath@gmail.com   Yes             1\n",
       "Sean.huynh2@boeing.com        Yes             1\n",
       "aabtzu@berkeley.edu           Yes             1\n",
       "aanisah.q@gmail.com           Yes             2\n",
       "affan98@gmail.com             Yes             2\n",
       "akshaynair.phoenix@gmail.com  Yes             2\n",
       "amanyalshibli@gmail.com       Yes             1\n",
       "cosmoplasma@gmail.com         Yes             2\n",
       "cp_a2000@yahoo.com            Yes             2\n",
       "essam.rao@gmail.com           Yes             2\n",
       "fjsuboh@gmail.com             No              1\n",
       "horngcatherine@gmail.com      No              1\n",
       "icysnow624@berkeley.edu       Yes             1\n",
       "jnguyen_21cent@yahoo.com      Yes             1\n",
       "jujhar.bedi@berkeley.edu      Yes             1\n",
       "katrinalim00@gmail.com        Yes             1\n",
       "mohsin@mohsinhaider.com       Yes             2\n",
       "mrdaws13@gmail.com            Yes             1\n",
       "nazik.aytjanova@gmail.com     Yes             1\n",
       "raymondleemids@berkeley.edu   Yes             1\n",
       "reetu.gupta@gmail.com         Yes             1\n",
       "robertsantoso@gmail.com       No              1\n",
       "soph.ameen@gmail.com          Yes             2\n",
       "tam.christopher10@gmail.com   Yes             1\n",
       "tonykma84@gmail.com           Yes             1\n",
       "yezhengrong1992@gmail.com     Yes             2\n",
       "Name: count, dtype: int64"
      ]
     },
     "execution_count": 363,
     "metadata": {},
     "output_type": "execute_result"
    }
   ],
   "source": [
    "# 3 users did not meet criteria\n",
    "# total_user_count = pd.read_csv('coffee_drinking_dataset_for_analysis.csv')\n",
    "\n",
    "# cols = total_user_count.columns.tolist()\n",
    "\n",
    "# # Example new names for columns 5-12\n",
    "# cols[3:11]= ['criteria_ind', 'wake_up_ts', 'drink_coffee_ts', 'hrs_since_woke', \n",
    "#              'awake_answer', 'difficult_answer', 'physical_answer', 'num_cups_today']\n",
    "\n",
    "# # Assign the new names to those specific columns\n",
    "# total_user_count.columns = cols\n",
    "# total_user_count.groupby('Email')['criteria_ind'].value_counts()"
   ]
  },
  {
   "cell_type": "code",
   "execution_count": null,
   "metadata": {},
   "outputs": [],
   "source": []
  },
  {
   "cell_type": "code",
   "execution_count": 214,
   "metadata": {},
   "outputs": [
    {
     "data": {
      "text/plain": [
       "criteria_ind\n",
       "Yes    41\n",
       "No      3\n",
       "Name: count, dtype: int64"
      ]
     },
     "execution_count": 214,
     "metadata": {},
     "output_type": "execute_result"
    }
   ],
   "source": [
    "df['criteria_ind'].value_counts()"
   ]
  },
  {
   "cell_type": "code",
   "execution_count": 215,
   "metadata": {},
   "outputs": [
    {
     "data": {
      "text/plain": [
       "33"
      ]
     },
     "execution_count": 215,
     "metadata": {},
     "output_type": "execute_result"
    }
   ],
   "source": [
    "# 33 people actually participated overall\n",
    "df['Email'].nunique()"
   ]
  },
  {
   "cell_type": "code",
   "execution_count": 216,
   "metadata": {},
   "outputs": [],
   "source": [
    "# selecting only for participants that matched selection criteria\n",
    "df = df[df['criteria_ind']=='Yes']"
   ]
  },
  {
   "cell_type": "code",
   "execution_count": 217,
   "metadata": {},
   "outputs": [
    {
     "data": {
      "text/plain": [
       "Timestamp           0\n",
       "Name                0\n",
       "Email               0\n",
       "criteria_ind        0\n",
       "wake_up_ts          0\n",
       "drink_coffee_ts     0\n",
       "hrs_since_woke      0\n",
       "awake_answer        0\n",
       "difficult_answer    0\n",
       "physical_answer     0\n",
       "num_cups_today      6\n",
       "dtype: int64"
      ]
     },
     "execution_count": 217,
     "metadata": {},
     "output_type": "execute_result"
    }
   ],
   "source": [
    "#looking at nulls\n",
    "df.isna().sum()"
   ]
  },
  {
   "cell_type": "code",
   "execution_count": 218,
   "metadata": {},
   "outputs": [
    {
     "data": {
      "text/plain": [
       "Name\n",
       "ISHTIAQUE M              1\n",
       "Tony Ma                  1\n",
       "Sean Huynh               1\n",
       "Sai Sharath              1\n",
       "Reetu Gupta              1\n",
       "Raymond Lee              1\n",
       "Rand Khasawneh           1\n",
       "Rand                     1\n",
       "Katrina                  1\n",
       "Jujhar Bedi              1\n",
       "Joshua Laferriere        1\n",
       "Jonathan Sovan Nguyen    1\n",
       "amit bhattacharyya       1\n",
       "Farah Syed               1\n",
       "nazik                    1\n",
       "Amany Alshibli           1\n",
       "Chris Tam                1\n",
       "Cecille                  1\n",
       "Cecille                  1\n",
       "Brian T                  1\n",
       "Armine                   1\n",
       "Anni Yao                 1\n",
       "Aatif                    1\n",
       "Al                       1\n",
       "Aatif Shah               1\n",
       "Yusuke Sato              2\n",
       "Sophia                   2\n",
       "David Ye                 2\n",
       "Akshay                   2\n",
       "Essam Rao                2\n",
       "Mohsin Haider            2\n",
       "Affan Hussain            2\n",
       "Aanisah Quddoos          2\n",
       "Name: Email, dtype: int64"
      ]
     },
     "execution_count": 218,
     "metadata": {},
     "output_type": "execute_result"
    }
   ],
   "source": [
    "# checked that every Email has a name associated with it\n",
    "df.groupby('Name')['Email'].count().sort_values(ascending=True)"
   ]
  },
  {
   "cell_type": "code",
   "execution_count": 219,
   "metadata": {},
   "outputs": [
    {
     "data": {
      "text/plain": [
       "Timestamp           0\n",
       "Name                0\n",
       "Email               0\n",
       "criteria_ind        0\n",
       "wake_up_ts          0\n",
       "drink_coffee_ts     0\n",
       "hrs_since_woke      0\n",
       "awake_answer        0\n",
       "difficult_answer    0\n",
       "physical_answer     0\n",
       "num_cups_today      6\n",
       "dtype: int64"
      ]
     },
     "execution_count": 219,
     "metadata": {},
     "output_type": "execute_result"
    }
   ],
   "source": [
    "# dropping extra rows\n",
    "# dropping on 'Email' column is better because some people put not their whole name each day they participated in the experiment\n",
    "df = df.dropna(subset=['Email'])\n",
    "df.isna().sum()\n"
   ]
  },
  {
   "cell_type": "code",
   "execution_count": 220,
   "metadata": {},
   "outputs": [
    {
     "data": {
      "text/plain": [
       "Index(['Timestamp', 'Name', 'Email', 'criteria_ind', 'wake_up_ts',\n",
       "       'drink_coffee_ts', 'hrs_since_woke', 'awake_answer', 'difficult_answer',\n",
       "       'physical_answer', 'num_cups_today'],\n",
       "      dtype='object')"
      ]
     },
     "execution_count": 220,
     "metadata": {},
     "output_type": "execute_result"
    }
   ],
   "source": [
    "df.columns"
   ]
  },
  {
   "cell_type": "code",
   "execution_count": 221,
   "metadata": {},
   "outputs": [
    {
     "data": {
      "text/html": [
       "<div>\n",
       "<style scoped>\n",
       "    .dataframe tbody tr th:only-of-type {\n",
       "        vertical-align: middle;\n",
       "    }\n",
       "\n",
       "    .dataframe tbody tr th {\n",
       "        vertical-align: top;\n",
       "    }\n",
       "\n",
       "    .dataframe thead th {\n",
       "        text-align: right;\n",
       "    }\n",
       "</style>\n",
       "<table border=\"1\" class=\"dataframe\">\n",
       "  <thead>\n",
       "    <tr style=\"text-align: right;\">\n",
       "      <th></th>\n",
       "      <th>Timestamp</th>\n",
       "      <th>Name</th>\n",
       "      <th>Email</th>\n",
       "      <th>criteria_ind</th>\n",
       "      <th>wake_up_ts</th>\n",
       "      <th>drink_coffee_ts</th>\n",
       "      <th>hrs_since_woke</th>\n",
       "      <th>awake_answer</th>\n",
       "      <th>difficult_answer</th>\n",
       "      <th>physical_answer</th>\n",
       "      <th>num_cups_today</th>\n",
       "    </tr>\n",
       "  </thead>\n",
       "  <tbody>\n",
       "    <tr>\n",
       "      <th>0</th>\n",
       "      <td>3/2/2025 1:09:36</td>\n",
       "      <td>ISHTIAQUE M</td>\n",
       "      <td>IM332@CORNELL.EDU</td>\n",
       "      <td>Yes</td>\n",
       "      <td>7:00:00 AM</td>\n",
       "      <td>8:00:00 AM</td>\n",
       "      <td>5.85</td>\n",
       "      <td>4 = Mostly awake (can focus on most tasks)</td>\n",
       "      <td>4 = Easy (can focus with little effort)</td>\n",
       "      <td>4 = Slightly tired (little fatigue, feel mostl...</td>\n",
       "      <td>NaN</td>\n",
       "    </tr>\n",
       "  </tbody>\n",
       "</table>\n",
       "</div>"
      ],
      "text/plain": [
       "          Timestamp         Name              Email criteria_ind  wake_up_ts  \\\n",
       "0  3/2/2025 1:09:36  ISHTIAQUE M  IM332@CORNELL.EDU          Yes  7:00:00 AM   \n",
       "\n",
       "  drink_coffee_ts  hrs_since_woke                                awake_answer  \\\n",
       "0      8:00:00 AM            5.85  4 = Mostly awake (can focus on most tasks)   \n",
       "\n",
       "                          difficult_answer  \\\n",
       "0  4 = Easy (can focus with little effort)   \n",
       "\n",
       "                                     physical_answer num_cups_today  \n",
       "0  4 = Slightly tired (little fatigue, feel mostl...            NaN  "
      ]
     },
     "execution_count": 221,
     "metadata": {},
     "output_type": "execute_result"
    }
   ],
   "source": [
    "df.head(1)"
   ]
  },
  {
   "cell_type": "code",
   "execution_count": 222,
   "metadata": {},
   "outputs": [
    {
     "data": {
      "text/plain": [
       "Timestamp            object\n",
       "Name                 object\n",
       "Email                object\n",
       "criteria_ind         object\n",
       "wake_up_ts           object\n",
       "drink_coffee_ts      object\n",
       "hrs_since_woke      float64\n",
       "awake_answer         object\n",
       "difficult_answer     object\n",
       "physical_answer      object\n",
       "num_cups_today       object\n",
       "dtype: object"
      ]
     },
     "execution_count": 222,
     "metadata": {},
     "output_type": "execute_result"
    }
   ],
   "source": [
    "df.dtypes"
   ]
  },
  {
   "cell_type": "code",
   "execution_count": 223,
   "metadata": {},
   "outputs": [],
   "source": [
    "df['wake_up_ts'] = pd.to_datetime(df['wake_up_ts'])\n",
    "df['drink_coffee_ts'] = pd.to_datetime(df['drink_coffee_ts'])"
   ]
  },
  {
   "cell_type": "code",
   "execution_count": 224,
   "metadata": {},
   "outputs": [
    {
     "data": {
      "text/plain": [
       "30"
      ]
     },
     "execution_count": 224,
     "metadata": {},
     "output_type": "execute_result"
    }
   ],
   "source": [
    "# 30 participants met the selection criteria\n",
    "df['Email'].nunique()"
   ]
  },
  {
   "cell_type": "code",
   "execution_count": 365,
   "metadata": {},
   "outputs": [
    {
     "data": {
      "text/plain": [
       "41"
      ]
     },
     "execution_count": 365,
     "metadata": {},
     "output_type": "execute_result"
    }
   ],
   "source": [
    "len(df)"
   ]
  },
  {
   "cell_type": "code",
   "execution_count": 225,
   "metadata": {},
   "outputs": [
    {
     "data": {
      "text/plain": [
       "Timestamp\n",
       "False    19\n",
       "True     11\n",
       "Name: count, dtype: int64"
      ]
     },
     "execution_count": 225,
     "metadata": {},
     "output_type": "execute_result"
    }
   ],
   "source": [
    "# 11 people did 2 days of the experiment\n",
    "(df.groupby('Email')['Timestamp'].count()>1).value_counts()"
   ]
  },
  {
   "cell_type": "code",
   "execution_count": 227,
   "metadata": {},
   "outputs": [
    {
     "data": {
      "text/html": [
       "<div>\n",
       "<style scoped>\n",
       "    .dataframe tbody tr th:only-of-type {\n",
       "        vertical-align: middle;\n",
       "    }\n",
       "\n",
       "    .dataframe tbody tr th {\n",
       "        vertical-align: top;\n",
       "    }\n",
       "\n",
       "    .dataframe thead th {\n",
       "        text-align: right;\n",
       "    }\n",
       "</style>\n",
       "<table border=\"1\" class=\"dataframe\">\n",
       "  <thead>\n",
       "    <tr style=\"text-align: right;\">\n",
       "      <th></th>\n",
       "      <th>Timestamp</th>\n",
       "      <th>Name</th>\n",
       "      <th>Email</th>\n",
       "      <th>criteria_ind</th>\n",
       "      <th>wake_up_ts</th>\n",
       "      <th>drink_coffee_ts</th>\n",
       "      <th>hrs_since_woke</th>\n",
       "      <th>awake_answer</th>\n",
       "      <th>difficult_answer</th>\n",
       "      <th>physical_answer</th>\n",
       "      <th>num_cups_today</th>\n",
       "      <th>day_order</th>\n",
       "    </tr>\n",
       "  </thead>\n",
       "  <tbody>\n",
       "    <tr>\n",
       "      <th>23</th>\n",
       "      <td>4/10/2025 17:01:34</td>\n",
       "      <td>Aatif Shah</td>\n",
       "      <td>Aatifhshah@gmail.com</td>\n",
       "      <td>Yes</td>\n",
       "      <td>2025-04-20 07:30:00</td>\n",
       "      <td>2025-04-20 07:52:00</td>\n",
       "      <td>6.5</td>\n",
       "      <td>5 = Fully alert (completely awake)</td>\n",
       "      <td>5 = Not difficult at all (no distractions, ful...</td>\n",
       "      <td>4 = Slightly tired (little fatigue, feel mostl...</td>\n",
       "      <td>2 cups</td>\n",
       "      <td>1</td>\n",
       "    </tr>\n",
       "    <tr>\n",
       "      <th>33</th>\n",
       "      <td>4/11/2025 19:32:38</td>\n",
       "      <td>Aatif</td>\n",
       "      <td>Aatifhshah@gmail.com</td>\n",
       "      <td>Yes</td>\n",
       "      <td>2025-04-20 08:30:00</td>\n",
       "      <td>2025-04-20 10:28:00</td>\n",
       "      <td>8.0</td>\n",
       "      <td>2 = Very sleepy (eyes tired, slow moving)</td>\n",
       "      <td>3 = Somewhat difficult (can focus but get side...</td>\n",
       "      <td>2 = Very tired (sluggish, little energy)</td>\n",
       "      <td>1 cup</td>\n",
       "      <td>2</td>\n",
       "    </tr>\n",
       "    <tr>\n",
       "      <th>29</th>\n",
       "      <td>4/11/2025 17:05:22</td>\n",
       "      <td>Farah Syed</td>\n",
       "      <td>Amileiafarah@gmail.com</td>\n",
       "      <td>Yes</td>\n",
       "      <td>2025-04-20 08:00:00</td>\n",
       "      <td>2025-04-20 08:30:00</td>\n",
       "      <td>6.0</td>\n",
       "      <td>4 = Mostly awake (can focus on most tasks)</td>\n",
       "      <td>4 = Slightly difficult (can focus with little ...</td>\n",
       "      <td>4 = Slightly tired (little fatigue, feel mostl...</td>\n",
       "      <td>1 cup</td>\n",
       "      <td>1</td>\n",
       "    </tr>\n",
       "    <tr>\n",
       "      <th>13</th>\n",
       "      <td>3/19/2025 12:37:23</td>\n",
       "      <td>Armine</td>\n",
       "      <td>Armine.hakobyan@ymail.com</td>\n",
       "      <td>Yes</td>\n",
       "      <td>2025-04-20 06:00:00</td>\n",
       "      <td>2025-04-20 06:10:00</td>\n",
       "      <td>9.5</td>\n",
       "      <td>4 = Mostly awake (can focus on most tasks)</td>\n",
       "      <td>3 = Somewhat difficult (can focus but get side...</td>\n",
       "      <td>4 = Slightly tired (little fatigue, feel mostl...</td>\n",
       "      <td>2 cups</td>\n",
       "      <td>1</td>\n",
       "    </tr>\n",
       "    <tr>\n",
       "      <th>17</th>\n",
       "      <td>3/21/2025 16:22:26</td>\n",
       "      <td>Brian T</td>\n",
       "      <td>Brian.tran2@boeing.com</td>\n",
       "      <td>Yes</td>\n",
       "      <td>2025-04-20 07:20:00</td>\n",
       "      <td>2025-04-20 09:20:00</td>\n",
       "      <td>6.0</td>\n",
       "      <td>4 = Mostly awake (can focus on most tasks)</td>\n",
       "      <td>3 = Somewhat difficult (can focus but get side...</td>\n",
       "      <td>4 = Slightly tired (little fatigue, feel mostl...</td>\n",
       "      <td>2 cups</td>\n",
       "      <td>1</td>\n",
       "    </tr>\n",
       "  </tbody>\n",
       "</table>\n",
       "</div>"
      ],
      "text/plain": [
       "             Timestamp        Name                      Email criteria_ind  \\\n",
       "23  4/10/2025 17:01:34  Aatif Shah       Aatifhshah@gmail.com          Yes   \n",
       "33  4/11/2025 19:32:38       Aatif       Aatifhshah@gmail.com          Yes   \n",
       "29  4/11/2025 17:05:22  Farah Syed     Amileiafarah@gmail.com          Yes   \n",
       "13  3/19/2025 12:37:23      Armine  Armine.hakobyan@ymail.com          Yes   \n",
       "17  3/21/2025 16:22:26     Brian T    Brian.tran2@boeing.com           Yes   \n",
       "\n",
       "            wake_up_ts     drink_coffee_ts  hrs_since_woke  \\\n",
       "23 2025-04-20 07:30:00 2025-04-20 07:52:00             6.5   \n",
       "33 2025-04-20 08:30:00 2025-04-20 10:28:00             8.0   \n",
       "29 2025-04-20 08:00:00 2025-04-20 08:30:00             6.0   \n",
       "13 2025-04-20 06:00:00 2025-04-20 06:10:00             9.5   \n",
       "17 2025-04-20 07:20:00 2025-04-20 09:20:00             6.0   \n",
       "\n",
       "                                  awake_answer  \\\n",
       "23          5 = Fully alert (completely awake)   \n",
       "33   2 = Very sleepy (eyes tired, slow moving)   \n",
       "29  4 = Mostly awake (can focus on most tasks)   \n",
       "13  4 = Mostly awake (can focus on most tasks)   \n",
       "17  4 = Mostly awake (can focus on most tasks)   \n",
       "\n",
       "                                     difficult_answer  \\\n",
       "23  5 = Not difficult at all (no distractions, ful...   \n",
       "33  3 = Somewhat difficult (can focus but get side...   \n",
       "29  4 = Slightly difficult (can focus with little ...   \n",
       "13  3 = Somewhat difficult (can focus but get side...   \n",
       "17  3 = Somewhat difficult (can focus but get side...   \n",
       "\n",
       "                                      physical_answer num_cups_today  \\\n",
       "23  4 = Slightly tired (little fatigue, feel mostl...         2 cups   \n",
       "33           2 = Very tired (sluggish, little energy)          1 cup   \n",
       "29  4 = Slightly tired (little fatigue, feel mostl...          1 cup   \n",
       "13  4 = Slightly tired (little fatigue, feel mostl...         2 cups   \n",
       "17  4 = Slightly tired (little fatigue, feel mostl...         2 cups   \n",
       "\n",
       "    day_order  \n",
       "23          1  \n",
       "33          2  \n",
       "29          1  \n",
       "13          1  \n",
       "17          1  "
      ]
     },
     "execution_count": 227,
     "metadata": {},
     "output_type": "execute_result"
    }
   ],
   "source": [
    "df = df.sort_values(by=['Email', 'Timestamp'])\n",
    "df['day_order'] = df.groupby('Email').cumcount() + 1\n",
    "df.head()"
   ]
  },
  {
   "cell_type": "code",
   "execution_count": 228,
   "metadata": {},
   "outputs": [],
   "source": [
    "df['time_diff'] = (df['drink_coffee_ts'] - df['wake_up_ts']).abs()\n",
    "\n",
    "# checking who complied properly\n",
    "def check_coffee_compliance(row):\n",
    "    if row['day_order'] == 1:\n",
    "        # Control day: should drink coffee within 30 minutes\n",
    "        return 1 if row['time_diff'] <= pd.Timedelta(minutes=30) else 0\n",
    "    elif row['day_order'] == 2:\n",
    "        # Treatment day: should drink coffee between 1 and 3 hours\n",
    "        return 1 if pd.Timedelta(hours=1) <= row['time_diff'] <= pd.Timedelta(hours=3) else 0\n",
    "    else:\n",
    "        return 0  # default\n",
    "\n",
    "df['coffee_compliant'] = df.apply(check_coffee_compliance, axis=1)"
   ]
  },
  {
   "cell_type": "code",
   "execution_count": 233,
   "metadata": {},
   "outputs": [
    {
     "data": {
      "text/html": [
       "<div>\n",
       "<style scoped>\n",
       "    .dataframe tbody tr th:only-of-type {\n",
       "        vertical-align: middle;\n",
       "    }\n",
       "\n",
       "    .dataframe tbody tr th {\n",
       "        vertical-align: top;\n",
       "    }\n",
       "\n",
       "    .dataframe thead th {\n",
       "        text-align: right;\n",
       "    }\n",
       "</style>\n",
       "<table border=\"1\" class=\"dataframe\">\n",
       "  <thead>\n",
       "    <tr style=\"text-align: right;\">\n",
       "      <th></th>\n",
       "      <th>Timestamp</th>\n",
       "      <th>Name</th>\n",
       "      <th>Email</th>\n",
       "      <th>criteria_ind</th>\n",
       "      <th>wake_up_ts</th>\n",
       "      <th>drink_coffee_ts</th>\n",
       "      <th>hrs_since_woke</th>\n",
       "      <th>awake_answer</th>\n",
       "      <th>difficult_answer</th>\n",
       "      <th>physical_answer</th>\n",
       "      <th>num_cups_today</th>\n",
       "      <th>day_order</th>\n",
       "      <th>time_diff</th>\n",
       "      <th>coffee_compliant</th>\n",
       "      <th>two_day_participate</th>\n",
       "    </tr>\n",
       "  </thead>\n",
       "  <tbody>\n",
       "    <tr>\n",
       "      <th>23</th>\n",
       "      <td>4/10/2025 17:01:34</td>\n",
       "      <td>Aatif Shah</td>\n",
       "      <td>Aatifhshah@gmail.com</td>\n",
       "      <td>Yes</td>\n",
       "      <td>2025-04-20 07:30:00</td>\n",
       "      <td>2025-04-20 07:52:00</td>\n",
       "      <td>6.5</td>\n",
       "      <td>5 = Fully alert (completely awake)</td>\n",
       "      <td>5 = Not difficult at all (no distractions, ful...</td>\n",
       "      <td>4 = Slightly tired (little fatigue, feel mostl...</td>\n",
       "      <td>2 cups</td>\n",
       "      <td>1</td>\n",
       "      <td>0 days 00:22:00</td>\n",
       "      <td>1</td>\n",
       "      <td>1</td>\n",
       "    </tr>\n",
       "    <tr>\n",
       "      <th>33</th>\n",
       "      <td>4/11/2025 19:32:38</td>\n",
       "      <td>Aatif</td>\n",
       "      <td>Aatifhshah@gmail.com</td>\n",
       "      <td>Yes</td>\n",
       "      <td>2025-04-20 08:30:00</td>\n",
       "      <td>2025-04-20 10:28:00</td>\n",
       "      <td>8.0</td>\n",
       "      <td>2 = Very sleepy (eyes tired, slow moving)</td>\n",
       "      <td>3 = Somewhat difficult (can focus but get side...</td>\n",
       "      <td>2 = Very tired (sluggish, little energy)</td>\n",
       "      <td>1 cup</td>\n",
       "      <td>2</td>\n",
       "      <td>0 days 01:58:00</td>\n",
       "      <td>1</td>\n",
       "      <td>1</td>\n",
       "    </tr>\n",
       "    <tr>\n",
       "      <th>29</th>\n",
       "      <td>4/11/2025 17:05:22</td>\n",
       "      <td>Farah Syed</td>\n",
       "      <td>Amileiafarah@gmail.com</td>\n",
       "      <td>Yes</td>\n",
       "      <td>2025-04-20 08:00:00</td>\n",
       "      <td>2025-04-20 08:30:00</td>\n",
       "      <td>6.0</td>\n",
       "      <td>4 = Mostly awake (can focus on most tasks)</td>\n",
       "      <td>4 = Slightly difficult (can focus with little ...</td>\n",
       "      <td>4 = Slightly tired (little fatigue, feel mostl...</td>\n",
       "      <td>1 cup</td>\n",
       "      <td>1</td>\n",
       "      <td>0 days 00:30:00</td>\n",
       "      <td>1</td>\n",
       "      <td>0</td>\n",
       "    </tr>\n",
       "  </tbody>\n",
       "</table>\n",
       "</div>"
      ],
      "text/plain": [
       "             Timestamp        Name                   Email criteria_ind  \\\n",
       "23  4/10/2025 17:01:34  Aatif Shah    Aatifhshah@gmail.com          Yes   \n",
       "33  4/11/2025 19:32:38       Aatif    Aatifhshah@gmail.com          Yes   \n",
       "29  4/11/2025 17:05:22  Farah Syed  Amileiafarah@gmail.com          Yes   \n",
       "\n",
       "            wake_up_ts     drink_coffee_ts  hrs_since_woke  \\\n",
       "23 2025-04-20 07:30:00 2025-04-20 07:52:00             6.5   \n",
       "33 2025-04-20 08:30:00 2025-04-20 10:28:00             8.0   \n",
       "29 2025-04-20 08:00:00 2025-04-20 08:30:00             6.0   \n",
       "\n",
       "                                  awake_answer  \\\n",
       "23          5 = Fully alert (completely awake)   \n",
       "33   2 = Very sleepy (eyes tired, slow moving)   \n",
       "29  4 = Mostly awake (can focus on most tasks)   \n",
       "\n",
       "                                     difficult_answer  \\\n",
       "23  5 = Not difficult at all (no distractions, ful...   \n",
       "33  3 = Somewhat difficult (can focus but get side...   \n",
       "29  4 = Slightly difficult (can focus with little ...   \n",
       "\n",
       "                                      physical_answer num_cups_today  \\\n",
       "23  4 = Slightly tired (little fatigue, feel mostl...         2 cups   \n",
       "33           2 = Very tired (sluggish, little energy)          1 cup   \n",
       "29  4 = Slightly tired (little fatigue, feel mostl...          1 cup   \n",
       "\n",
       "    day_order       time_diff  coffee_compliant  two_day_participate  \n",
       "23          1 0 days 00:22:00                 1                    1  \n",
       "33          2 0 days 01:58:00                 1                    1  \n",
       "29          1 0 days 00:30:00                 1                    0  "
      ]
     },
     "execution_count": 233,
     "metadata": {},
     "output_type": "execute_result"
    }
   ],
   "source": [
    "# creating column to identify people that participated both days\n",
    "df['two_day_participate'] = (\n",
    "    df.groupby('Email')['day_order']\n",
    "      .transform(lambda x: 1 if set(x) == {1, 2} else 0)\n",
    ")\n",
    "df.head(3)"
   ]
  },
  {
   "cell_type": "code",
   "execution_count": 235,
   "metadata": {},
   "outputs": [
    {
     "data": {
      "text/html": [
       "<div>\n",
       "<style scoped>\n",
       "    .dataframe tbody tr th:only-of-type {\n",
       "        vertical-align: middle;\n",
       "    }\n",
       "\n",
       "    .dataframe tbody tr th {\n",
       "        vertical-align: top;\n",
       "    }\n",
       "\n",
       "    .dataframe thead th {\n",
       "        text-align: right;\n",
       "    }\n",
       "</style>\n",
       "<table border=\"1\" class=\"dataframe\">\n",
       "  <thead>\n",
       "    <tr style=\"text-align: right;\">\n",
       "      <th></th>\n",
       "      <th>Timestamp</th>\n",
       "      <th>Name</th>\n",
       "      <th>Email</th>\n",
       "      <th>criteria_ind</th>\n",
       "      <th>wake_up_ts</th>\n",
       "      <th>drink_coffee_ts</th>\n",
       "      <th>hrs_since_woke</th>\n",
       "      <th>awake_answer</th>\n",
       "      <th>difficult_answer</th>\n",
       "      <th>physical_answer</th>\n",
       "      <th>num_cups_today</th>\n",
       "      <th>day_order</th>\n",
       "      <th>time_diff</th>\n",
       "      <th>coffee_compliant</th>\n",
       "      <th>two_day_participate</th>\n",
       "    </tr>\n",
       "  </thead>\n",
       "  <tbody>\n",
       "    <tr>\n",
       "      <th>23</th>\n",
       "      <td>4/10/2025 17:01:34</td>\n",
       "      <td>Aatif Shah</td>\n",
       "      <td>Aatifhshah@gmail.com</td>\n",
       "      <td>Yes</td>\n",
       "      <td>2025-04-20 07:30:00</td>\n",
       "      <td>2025-04-20 07:52:00</td>\n",
       "      <td>6.5</td>\n",
       "      <td>5 = Fully alert (completely awake)</td>\n",
       "      <td>5 = Not difficult at all (no distractions, ful...</td>\n",
       "      <td>4 = Slightly tired (little fatigue, feel mostl...</td>\n",
       "      <td>2 cups</td>\n",
       "      <td>1</td>\n",
       "      <td>0 days 00:22:00</td>\n",
       "      <td>1</td>\n",
       "      <td>1</td>\n",
       "    </tr>\n",
       "    <tr>\n",
       "      <th>33</th>\n",
       "      <td>4/11/2025 19:32:38</td>\n",
       "      <td>Aatif</td>\n",
       "      <td>Aatifhshah@gmail.com</td>\n",
       "      <td>Yes</td>\n",
       "      <td>2025-04-20 08:30:00</td>\n",
       "      <td>2025-04-20 10:28:00</td>\n",
       "      <td>8.0</td>\n",
       "      <td>2 = Very sleepy (eyes tired, slow moving)</td>\n",
       "      <td>3 = Somewhat difficult (can focus but get side...</td>\n",
       "      <td>2 = Very tired (sluggish, little energy)</td>\n",
       "      <td>1 cup</td>\n",
       "      <td>2</td>\n",
       "      <td>0 days 01:58:00</td>\n",
       "      <td>1</td>\n",
       "      <td>1</td>\n",
       "    </tr>\n",
       "    <tr>\n",
       "      <th>29</th>\n",
       "      <td>4/11/2025 17:05:22</td>\n",
       "      <td>Farah Syed</td>\n",
       "      <td>Amileiafarah@gmail.com</td>\n",
       "      <td>Yes</td>\n",
       "      <td>2025-04-20 08:00:00</td>\n",
       "      <td>2025-04-20 08:30:00</td>\n",
       "      <td>6.0</td>\n",
       "      <td>4 = Mostly awake (can focus on most tasks)</td>\n",
       "      <td>4 = Slightly difficult (can focus with little ...</td>\n",
       "      <td>4 = Slightly tired (little fatigue, feel mostl...</td>\n",
       "      <td>1 cup</td>\n",
       "      <td>1</td>\n",
       "      <td>0 days 00:30:00</td>\n",
       "      <td>1</td>\n",
       "      <td>0</td>\n",
       "    </tr>\n",
       "  </tbody>\n",
       "</table>\n",
       "</div>"
      ],
      "text/plain": [
       "             Timestamp        Name                   Email criteria_ind  \\\n",
       "23  4/10/2025 17:01:34  Aatif Shah    Aatifhshah@gmail.com          Yes   \n",
       "33  4/11/2025 19:32:38       Aatif    Aatifhshah@gmail.com          Yes   \n",
       "29  4/11/2025 17:05:22  Farah Syed  Amileiafarah@gmail.com          Yes   \n",
       "\n",
       "            wake_up_ts     drink_coffee_ts  hrs_since_woke  \\\n",
       "23 2025-04-20 07:30:00 2025-04-20 07:52:00             6.5   \n",
       "33 2025-04-20 08:30:00 2025-04-20 10:28:00             8.0   \n",
       "29 2025-04-20 08:00:00 2025-04-20 08:30:00             6.0   \n",
       "\n",
       "                                  awake_answer  \\\n",
       "23          5 = Fully alert (completely awake)   \n",
       "33   2 = Very sleepy (eyes tired, slow moving)   \n",
       "29  4 = Mostly awake (can focus on most tasks)   \n",
       "\n",
       "                                     difficult_answer  \\\n",
       "23  5 = Not difficult at all (no distractions, ful...   \n",
       "33  3 = Somewhat difficult (can focus but get side...   \n",
       "29  4 = Slightly difficult (can focus with little ...   \n",
       "\n",
       "                                      physical_answer num_cups_today  \\\n",
       "23  4 = Slightly tired (little fatigue, feel mostl...         2 cups   \n",
       "33           2 = Very tired (sluggish, little energy)          1 cup   \n",
       "29  4 = Slightly tired (little fatigue, feel mostl...          1 cup   \n",
       "\n",
       "    day_order       time_diff  coffee_compliant  two_day_participate  \n",
       "23          1 0 days 00:22:00                 1                    1  \n",
       "33          2 0 days 01:58:00                 1                    1  \n",
       "29          1 0 days 00:30:00                 1                    0  "
      ]
     },
     "execution_count": 235,
     "metadata": {},
     "output_type": "execute_result"
    }
   ],
   "source": [
    "df.head(3)"
   ]
  },
  {
   "cell_type": "code",
   "execution_count": null,
   "metadata": {},
   "outputs": [
    {
     "data": {
      "text/plain": [
       "41"
      ]
     },
     "execution_count": 142,
     "metadata": {},
     "output_type": "execute_result"
    }
   ],
   "source": [
    "df[(df['two_day_participate']==0)]"
   ]
  },
  {
   "cell_type": "code",
   "execution_count": 244,
   "metadata": {},
   "outputs": [
    {
     "name": "stdout",
     "output_type": "stream",
     "text": [
      "8\n",
      "11\n"
     ]
    }
   ],
   "source": [
    "# for those that only participated one day, 8 satisfied control conditions, 11 satisfied treatment\n",
    "print(df[(df['two_day_participate']==0) & (df['time_diff']>=pd.Timedelta(hours=1)) & (df['time_diff']<=pd.Timedelta(hours=3))]['Email'].count())\n",
    "print(df[(df['two_day_participate']==0) & (df['time_diff']<=pd.Timedelta(minutes=30))]['Email'].count())"
   ]
  },
  {
   "cell_type": "code",
   "execution_count": null,
   "metadata": {},
   "outputs": [],
   "source": []
  },
  {
   "cell_type": "code",
   "execution_count": null,
   "metadata": {},
   "outputs": [],
   "source": [
    "# alert index score analysis"
   ]
  },
  {
   "cell_type": "code",
   "execution_count": 245,
   "metadata": {},
   "outputs": [
    {
     "data": {
      "text/html": [
       "<div>\n",
       "<style scoped>\n",
       "    .dataframe tbody tr th:only-of-type {\n",
       "        vertical-align: middle;\n",
       "    }\n",
       "\n",
       "    .dataframe tbody tr th {\n",
       "        vertical-align: top;\n",
       "    }\n",
       "\n",
       "    .dataframe thead th {\n",
       "        text-align: right;\n",
       "    }\n",
       "</style>\n",
       "<table border=\"1\" class=\"dataframe\">\n",
       "  <thead>\n",
       "    <tr style=\"text-align: right;\">\n",
       "      <th></th>\n",
       "      <th>Timestamp</th>\n",
       "      <th>Name</th>\n",
       "      <th>Email</th>\n",
       "      <th>criteria_ind</th>\n",
       "      <th>wake_up_ts</th>\n",
       "      <th>drink_coffee_ts</th>\n",
       "      <th>hrs_since_woke</th>\n",
       "      <th>awake_answer</th>\n",
       "      <th>difficult_answer</th>\n",
       "      <th>physical_answer</th>\n",
       "      <th>num_cups_today</th>\n",
       "      <th>day_order</th>\n",
       "      <th>time_diff</th>\n",
       "      <th>coffee_compliant</th>\n",
       "      <th>two_day_participate</th>\n",
       "      <th>awake_score</th>\n",
       "      <th>difficult_score</th>\n",
       "      <th>physical_score</th>\n",
       "    </tr>\n",
       "  </thead>\n",
       "  <tbody>\n",
       "    <tr>\n",
       "      <th>23</th>\n",
       "      <td>4/10/2025 17:01:34</td>\n",
       "      <td>Aatif Shah</td>\n",
       "      <td>Aatifhshah@gmail.com</td>\n",
       "      <td>Yes</td>\n",
       "      <td>2025-04-20 07:30:00</td>\n",
       "      <td>2025-04-20 07:52:00</td>\n",
       "      <td>6.5</td>\n",
       "      <td>5 = Fully alert (completely awake)</td>\n",
       "      <td>5 = Not difficult at all (no distractions, ful...</td>\n",
       "      <td>4 = Slightly tired (little fatigue, feel mostl...</td>\n",
       "      <td>2 cups</td>\n",
       "      <td>1</td>\n",
       "      <td>0 days 00:22:00</td>\n",
       "      <td>1</td>\n",
       "      <td>1</td>\n",
       "      <td>5</td>\n",
       "      <td>5</td>\n",
       "      <td>4</td>\n",
       "    </tr>\n",
       "    <tr>\n",
       "      <th>33</th>\n",
       "      <td>4/11/2025 19:32:38</td>\n",
       "      <td>Aatif</td>\n",
       "      <td>Aatifhshah@gmail.com</td>\n",
       "      <td>Yes</td>\n",
       "      <td>2025-04-20 08:30:00</td>\n",
       "      <td>2025-04-20 10:28:00</td>\n",
       "      <td>8.0</td>\n",
       "      <td>2 = Very sleepy (eyes tired, slow moving)</td>\n",
       "      <td>3 = Somewhat difficult (can focus but get side...</td>\n",
       "      <td>2 = Very tired (sluggish, little energy)</td>\n",
       "      <td>1 cup</td>\n",
       "      <td>2</td>\n",
       "      <td>0 days 01:58:00</td>\n",
       "      <td>1</td>\n",
       "      <td>1</td>\n",
       "      <td>2</td>\n",
       "      <td>3</td>\n",
       "      <td>2</td>\n",
       "    </tr>\n",
       "  </tbody>\n",
       "</table>\n",
       "</div>"
      ],
      "text/plain": [
       "             Timestamp        Name                 Email criteria_ind  \\\n",
       "23  4/10/2025 17:01:34  Aatif Shah  Aatifhshah@gmail.com          Yes   \n",
       "33  4/11/2025 19:32:38       Aatif  Aatifhshah@gmail.com          Yes   \n",
       "\n",
       "            wake_up_ts     drink_coffee_ts  hrs_since_woke  \\\n",
       "23 2025-04-20 07:30:00 2025-04-20 07:52:00             6.5   \n",
       "33 2025-04-20 08:30:00 2025-04-20 10:28:00             8.0   \n",
       "\n",
       "                                 awake_answer  \\\n",
       "23         5 = Fully alert (completely awake)   \n",
       "33  2 = Very sleepy (eyes tired, slow moving)   \n",
       "\n",
       "                                     difficult_answer  \\\n",
       "23  5 = Not difficult at all (no distractions, ful...   \n",
       "33  3 = Somewhat difficult (can focus but get side...   \n",
       "\n",
       "                                      physical_answer num_cups_today  \\\n",
       "23  4 = Slightly tired (little fatigue, feel mostl...         2 cups   \n",
       "33           2 = Very tired (sluggish, little energy)          1 cup   \n",
       "\n",
       "    day_order       time_diff  coffee_compliant  two_day_participate  \\\n",
       "23          1 0 days 00:22:00                 1                    1   \n",
       "33          2 0 days 01:58:00                 1                    1   \n",
       "\n",
       "   awake_score difficult_score physical_score  \n",
       "23           5               5              4  \n",
       "33           2               3              2  "
      ]
     },
     "execution_count": 245,
     "metadata": {},
     "output_type": "execute_result"
    }
   ],
   "source": [
    "df['awake_score'] = df['awake_answer'].str.extract('(\\d+)')\n",
    "df['difficult_score'] = df['difficult_answer'].str.extract('(\\d+)')\n",
    "df['physical_score'] = df['physical_answer'].str.extract('(\\d+)')\n",
    "df.head(2)"
   ]
  },
  {
   "cell_type": "code",
   "execution_count": 246,
   "metadata": {},
   "outputs": [],
   "source": [
    "df['awake_score'] = pd.to_numeric(df['awake_score'], errors='coerce')\n",
    "df['difficult_score'] = pd.to_numeric(df['difficult_score'], errors='coerce')\n",
    "df['physical_score'] = pd.to_numeric(df['physical_score'], errors='coerce')\n"
   ]
  },
  {
   "cell_type": "code",
   "execution_count": 247,
   "metadata": {},
   "outputs": [
    {
     "data": {
      "text/html": [
       "<div>\n",
       "<style scoped>\n",
       "    .dataframe tbody tr th:only-of-type {\n",
       "        vertical-align: middle;\n",
       "    }\n",
       "\n",
       "    .dataframe tbody tr th {\n",
       "        vertical-align: top;\n",
       "    }\n",
       "\n",
       "    .dataframe thead th {\n",
       "        text-align: right;\n",
       "    }\n",
       "</style>\n",
       "<table border=\"1\" class=\"dataframe\">\n",
       "  <thead>\n",
       "    <tr style=\"text-align: right;\">\n",
       "      <th></th>\n",
       "      <th>Timestamp</th>\n",
       "      <th>Name</th>\n",
       "      <th>Email</th>\n",
       "      <th>criteria_ind</th>\n",
       "      <th>wake_up_ts</th>\n",
       "      <th>drink_coffee_ts</th>\n",
       "      <th>hrs_since_woke</th>\n",
       "      <th>awake_answer</th>\n",
       "      <th>difficult_answer</th>\n",
       "      <th>physical_answer</th>\n",
       "      <th>num_cups_today</th>\n",
       "      <th>day_order</th>\n",
       "      <th>time_diff</th>\n",
       "      <th>coffee_compliant</th>\n",
       "      <th>two_day_participate</th>\n",
       "      <th>awake_score</th>\n",
       "      <th>difficult_score</th>\n",
       "      <th>physical_score</th>\n",
       "      <th>alert_index_score</th>\n",
       "    </tr>\n",
       "  </thead>\n",
       "  <tbody>\n",
       "    <tr>\n",
       "      <th>23</th>\n",
       "      <td>4/10/2025 17:01:34</td>\n",
       "      <td>Aatif Shah</td>\n",
       "      <td>Aatifhshah@gmail.com</td>\n",
       "      <td>Yes</td>\n",
       "      <td>2025-04-20 07:30:00</td>\n",
       "      <td>2025-04-20 07:52:00</td>\n",
       "      <td>6.5</td>\n",
       "      <td>5 = Fully alert (completely awake)</td>\n",
       "      <td>5 = Not difficult at all (no distractions, ful...</td>\n",
       "      <td>4 = Slightly tired (little fatigue, feel mostl...</td>\n",
       "      <td>2 cups</td>\n",
       "      <td>1</td>\n",
       "      <td>0 days 00:22:00</td>\n",
       "      <td>1</td>\n",
       "      <td>1</td>\n",
       "      <td>5</td>\n",
       "      <td>5</td>\n",
       "      <td>4</td>\n",
       "      <td>14</td>\n",
       "    </tr>\n",
       "  </tbody>\n",
       "</table>\n",
       "</div>"
      ],
      "text/plain": [
       "             Timestamp        Name                 Email criteria_ind  \\\n",
       "23  4/10/2025 17:01:34  Aatif Shah  Aatifhshah@gmail.com          Yes   \n",
       "\n",
       "            wake_up_ts     drink_coffee_ts  hrs_since_woke  \\\n",
       "23 2025-04-20 07:30:00 2025-04-20 07:52:00             6.5   \n",
       "\n",
       "                          awake_answer  \\\n",
       "23  5 = Fully alert (completely awake)   \n",
       "\n",
       "                                     difficult_answer  \\\n",
       "23  5 = Not difficult at all (no distractions, ful...   \n",
       "\n",
       "                                      physical_answer num_cups_today  \\\n",
       "23  4 = Slightly tired (little fatigue, feel mostl...         2 cups   \n",
       "\n",
       "    day_order       time_diff  coffee_compliant  two_day_participate  \\\n",
       "23          1 0 days 00:22:00                 1                    1   \n",
       "\n",
       "    awake_score  difficult_score  physical_score  alert_index_score  \n",
       "23            5                5               4                 14  "
      ]
     },
     "execution_count": 247,
     "metadata": {},
     "output_type": "execute_result"
    }
   ],
   "source": [
    "df['alert_index_score'] = df['awake_score'] + df['difficult_score'] + df['physical_score']\n",
    "df.head(1)"
   ]
  },
  {
   "cell_type": "code",
   "execution_count": 248,
   "metadata": {},
   "outputs": [],
   "source": [
    "df['alert_index_score'] = pd.to_numeric(df['alert_index_score'], errors='coerce')"
   ]
  },
  {
   "cell_type": "markdown",
   "metadata": {},
   "source": [
    "4-20-25: Re-running the below code based on realization that there are more people who participated on both days!"
   ]
  },
  {
   "cell_type": "code",
   "execution_count": null,
   "metadata": {},
   "outputs": [],
   "source": [
    "# Between subjects copmarison analysis (n = 19)"
   ]
  },
  {
   "cell_type": "code",
   "execution_count": 250,
   "metadata": {},
   "outputs": [
    {
     "data": {
      "text/plain": [
       "Index(['Timestamp', 'Name', 'Email', 'criteria_ind', 'wake_up_ts',\n",
       "       'drink_coffee_ts', 'hrs_since_woke', 'awake_answer', 'difficult_answer',\n",
       "       'physical_answer', 'num_cups_today', 'day_order', 'time_diff',\n",
       "       'coffee_compliant', 'two_day_participate', 'awake_score',\n",
       "       'difficult_score', 'physical_score', 'alert_index_score'],\n",
       "      dtype='object')"
      ]
     },
     "execution_count": 250,
     "metadata": {},
     "output_type": "execute_result"
    }
   ],
   "source": [
    "df.columns"
   ]
  },
  {
   "cell_type": "code",
   "execution_count": 364,
   "metadata": {},
   "outputs": [
    {
     "data": {
      "text/plain": [
       "19"
      ]
     },
     "execution_count": 364,
     "metadata": {},
     "output_type": "execute_result"
    }
   ],
   "source": [
    "between_subjects_df['Email'].nunique()"
   ]
  },
  {
   "cell_type": "code",
   "execution_count": 251,
   "metadata": {},
   "outputs": [],
   "source": [
    "# only selectin people that participated in only one day\n",
    "between_subjects_df = df[df['two_day_participate'] == 0]\n",
    "\n",
    "#assign control and treatment based on actual behavior\n",
    "def assign_behavior(row):\n",
    "    if row['time_diff'] <= pd.Timedelta(minutes=30):\n",
    "        return 0  # control behavior\n",
    "    elif pd.Timedelta(hours=1) <= row['time_diff'] < pd.Timedelta(hours=3):\n",
    "        return 1  # treatment behavior\n",
    "    else:\n",
    "        return None  # neither group\n",
    "\n",
    "# Apply the function\n",
    "between_subjects_df['behavior_group'] = between_subjects_df.apply(assign_behavior, axis=1)"
   ]
  },
  {
   "cell_type": "code",
   "execution_count": 368,
   "metadata": {},
   "outputs": [
    {
     "data": {
      "text/plain": [
       "behavior_group\n",
       "0    11\n",
       "1     8\n",
       "Name: count, dtype: int64"
      ]
     },
     "execution_count": 368,
     "metadata": {},
     "output_type": "execute_result"
    }
   ],
   "source": [
    "between_subjects_df['behavior_group'].value_counts()"
   ]
  },
  {
   "cell_type": "code",
   "execution_count": 252,
   "metadata": {},
   "outputs": [
    {
     "data": {
      "text/html": [
       "<div>\n",
       "<style scoped>\n",
       "    .dataframe tbody tr th:only-of-type {\n",
       "        vertical-align: middle;\n",
       "    }\n",
       "\n",
       "    .dataframe tbody tr th {\n",
       "        vertical-align: top;\n",
       "    }\n",
       "\n",
       "    .dataframe thead th {\n",
       "        text-align: right;\n",
       "    }\n",
       "</style>\n",
       "<table border=\"1\" class=\"dataframe\">\n",
       "  <thead>\n",
       "    <tr style=\"text-align: right;\">\n",
       "      <th></th>\n",
       "      <th>Timestamp</th>\n",
       "      <th>Name</th>\n",
       "      <th>Email</th>\n",
       "      <th>criteria_ind</th>\n",
       "      <th>wake_up_ts</th>\n",
       "      <th>drink_coffee_ts</th>\n",
       "      <th>hrs_since_woke</th>\n",
       "      <th>awake_answer</th>\n",
       "      <th>difficult_answer</th>\n",
       "      <th>physical_answer</th>\n",
       "      <th>num_cups_today</th>\n",
       "      <th>day_order</th>\n",
       "      <th>time_diff</th>\n",
       "      <th>coffee_compliant</th>\n",
       "      <th>two_day_participate</th>\n",
       "      <th>awake_score</th>\n",
       "      <th>difficult_score</th>\n",
       "      <th>physical_score</th>\n",
       "      <th>alert_index_score</th>\n",
       "      <th>behavior_group</th>\n",
       "    </tr>\n",
       "  </thead>\n",
       "  <tbody>\n",
       "    <tr>\n",
       "      <th>29</th>\n",
       "      <td>4/11/2025 17:05:22</td>\n",
       "      <td>Farah Syed</td>\n",
       "      <td>Amileiafarah@gmail.com</td>\n",
       "      <td>Yes</td>\n",
       "      <td>2025-04-20 08:00:00</td>\n",
       "      <td>2025-04-20 08:30:00</td>\n",
       "      <td>6.0</td>\n",
       "      <td>4 = Mostly awake (can focus on most tasks)</td>\n",
       "      <td>4 = Slightly difficult (can focus with little ...</td>\n",
       "      <td>4 = Slightly tired (little fatigue, feel mostl...</td>\n",
       "      <td>1 cup</td>\n",
       "      <td>1</td>\n",
       "      <td>0 days 00:30:00</td>\n",
       "      <td>1</td>\n",
       "      <td>0</td>\n",
       "      <td>4</td>\n",
       "      <td>4</td>\n",
       "      <td>4</td>\n",
       "      <td>12</td>\n",
       "      <td>0</td>\n",
       "    </tr>\n",
       "    <tr>\n",
       "      <th>13</th>\n",
       "      <td>3/19/2025 12:37:23</td>\n",
       "      <td>Armine</td>\n",
       "      <td>Armine.hakobyan@ymail.com</td>\n",
       "      <td>Yes</td>\n",
       "      <td>2025-04-20 06:00:00</td>\n",
       "      <td>2025-04-20 06:10:00</td>\n",
       "      <td>9.5</td>\n",
       "      <td>4 = Mostly awake (can focus on most tasks)</td>\n",
       "      <td>3 = Somewhat difficult (can focus but get side...</td>\n",
       "      <td>4 = Slightly tired (little fatigue, feel mostl...</td>\n",
       "      <td>2 cups</td>\n",
       "      <td>1</td>\n",
       "      <td>0 days 00:10:00</td>\n",
       "      <td>1</td>\n",
       "      <td>0</td>\n",
       "      <td>4</td>\n",
       "      <td>3</td>\n",
       "      <td>4</td>\n",
       "      <td>11</td>\n",
       "      <td>0</td>\n",
       "    </tr>\n",
       "    <tr>\n",
       "      <th>17</th>\n",
       "      <td>3/21/2025 16:22:26</td>\n",
       "      <td>Brian T</td>\n",
       "      <td>Brian.tran2@boeing.com</td>\n",
       "      <td>Yes</td>\n",
       "      <td>2025-04-20 07:20:00</td>\n",
       "      <td>2025-04-20 09:20:00</td>\n",
       "      <td>6.0</td>\n",
       "      <td>4 = Mostly awake (can focus on most tasks)</td>\n",
       "      <td>3 = Somewhat difficult (can focus but get side...</td>\n",
       "      <td>4 = Slightly tired (little fatigue, feel mostl...</td>\n",
       "      <td>2 cups</td>\n",
       "      <td>1</td>\n",
       "      <td>0 days 02:00:00</td>\n",
       "      <td>0</td>\n",
       "      <td>0</td>\n",
       "      <td>4</td>\n",
       "      <td>3</td>\n",
       "      <td>4</td>\n",
       "      <td>11</td>\n",
       "      <td>1</td>\n",
       "    </tr>\n",
       "  </tbody>\n",
       "</table>\n",
       "</div>"
      ],
      "text/plain": [
       "             Timestamp        Name                      Email criteria_ind  \\\n",
       "29  4/11/2025 17:05:22  Farah Syed     Amileiafarah@gmail.com          Yes   \n",
       "13  3/19/2025 12:37:23      Armine  Armine.hakobyan@ymail.com          Yes   \n",
       "17  3/21/2025 16:22:26     Brian T    Brian.tran2@boeing.com           Yes   \n",
       "\n",
       "            wake_up_ts     drink_coffee_ts  hrs_since_woke  \\\n",
       "29 2025-04-20 08:00:00 2025-04-20 08:30:00             6.0   \n",
       "13 2025-04-20 06:00:00 2025-04-20 06:10:00             9.5   \n",
       "17 2025-04-20 07:20:00 2025-04-20 09:20:00             6.0   \n",
       "\n",
       "                                  awake_answer  \\\n",
       "29  4 = Mostly awake (can focus on most tasks)   \n",
       "13  4 = Mostly awake (can focus on most tasks)   \n",
       "17  4 = Mostly awake (can focus on most tasks)   \n",
       "\n",
       "                                     difficult_answer  \\\n",
       "29  4 = Slightly difficult (can focus with little ...   \n",
       "13  3 = Somewhat difficult (can focus but get side...   \n",
       "17  3 = Somewhat difficult (can focus but get side...   \n",
       "\n",
       "                                      physical_answer num_cups_today  \\\n",
       "29  4 = Slightly tired (little fatigue, feel mostl...          1 cup   \n",
       "13  4 = Slightly tired (little fatigue, feel mostl...         2 cups   \n",
       "17  4 = Slightly tired (little fatigue, feel mostl...         2 cups   \n",
       "\n",
       "    day_order       time_diff  coffee_compliant  two_day_participate  \\\n",
       "29          1 0 days 00:30:00                 1                    0   \n",
       "13          1 0 days 00:10:00                 1                    0   \n",
       "17          1 0 days 02:00:00                 0                    0   \n",
       "\n",
       "    awake_score  difficult_score  physical_score  alert_index_score  \\\n",
       "29            4                4               4                 12   \n",
       "13            4                3               4                 11   \n",
       "17            4                3               4                 11   \n",
       "\n",
       "    behavior_group  \n",
       "29               0  \n",
       "13               0  \n",
       "17               1  "
      ]
     },
     "execution_count": 252,
     "metadata": {},
     "output_type": "execute_result"
    }
   ],
   "source": [
    "between_subjects_df.head(3)"
   ]
  },
  {
   "cell_type": "code",
   "execution_count": 253,
   "metadata": {},
   "outputs": [
    {
     "data": {
      "text/plain": [
       "behavior_group\n",
       "0    11\n",
       "1     8\n",
       "Name: count, dtype: int64"
      ]
     },
     "execution_count": 253,
     "metadata": {},
     "output_type": "execute_result"
    }
   ],
   "source": [
    "# no nulls\n",
    "between_subjects_df['behavior_group'].value_counts()"
   ]
  },
  {
   "cell_type": "code",
   "execution_count": 258,
   "metadata": {},
   "outputs": [
    {
     "data": {
      "image/png": "[encoded data removed]",
      "text/plain": [
       "<Figure size 640x480 with 1 Axes>"
      ]
     },
     "metadata": {},
     "output_type": "display_data"
    },
    {
     "data": {
      "image/png": "[encoded data removed]",
      "text/plain": [
       "<Figure size 640x480 with 1 Axes>"
      ]
     },
     "metadata": {},
     "output_type": "display_data"
    },
    {
     "data": {
      "image/png": "[encoded data removed]",
      "text/plain": [
       "<Figure size 640x480 with 1 Axes>"
      ]
     },
     "metadata": {},
     "output_type": "display_data"
    },
    {
     "data": {
      "image/png": "[encoded data removed]",
      "text/plain": [
       "<Figure size 640x480 with 1 Axes>"
      ]
     },
     "metadata": {},
     "output_type": "display_data"
    },
    {
     "data": {
      "image/png": "[encoded data removed]",
      "text/plain": [
       "<Figure size 640x480 with 1 Axes>"
      ]
     },
     "metadata": {},
     "output_type": "display_data"
    },
    {
     "data": {
      "image/png": "[encoded data removed]",
      "text/plain": [
       "<Figure size 640x480 with 1 Axes>"
      ]
     },
     "metadata": {},
     "output_type": "display_data"
    },
    {
     "data": {
      "image/png": "[encoded data removed]",
      "text/plain": [
       "<Figure size 640x480 with 1 Axes>"
      ]
     },
     "metadata": {},
     "output_type": "display_data"
    },
    {
     "data": {
      "image/png": "[encoded data removed]",
      "text/plain": [
       "<Figure size 640x480 with 1 Axes>"
      ]
     },
     "metadata": {},
     "output_type": "display_data"
    }
   ],
   "source": [
    "# visualizing distributions\n",
    "for group in [0,1]:\n",
    "    for metric in ['awake_score','difficult_score','physical_score','alert_index_score']:\n",
    "\n",
    "        between_subjects_df[between_subjects_df['behavior_group']==group][metric].value_counts().sort_index().plot(kind='bar')\n",
    "\n",
    "        # Add labels and title\n",
    "        plt.xlabel('Alert Index Score')\n",
    "        plt.ylabel('Frequency')\n",
    "        if group == 0:\n",
    "            plt.title('Control group, Distribution of Values in '+str(metric))\n",
    "        else:\n",
    "            plt.title('Treatment group, Distribution of Values in '+str(metric))\n",
    "        plt.grid()\n",
    "        # Show the plot\n",
    "        plt.show()"
   ]
  },
  {
   "cell_type": "code",
   "execution_count": 259,
   "metadata": {},
   "outputs": [
    {
     "data": {
      "image/png": "[encoded data removed]",
      "text/plain": [
       "<Figure size 640x480 with 1 Axes>"
      ]
     },
     "metadata": {},
     "output_type": "display_data"
    }
   ],
   "source": [
    "between_subjects_df[between_subjects_df['behavior_group']==0]['alert_index_score'].value_counts().sort_index().plot(kind='bar')\n",
    "plt.xlabel('Alert Index Score')\n",
    "plt.ylabel('Frequency')\n",
    "plt.title('Control group, Distribution of Values in Alert Index Score (n = '+str(len(between_subjects_df[between_subjects_df['behavior_group']==0]))+')')\n",
    "plt.ylim(0,6)\n",
    "plt.grid()"
   ]
  },
  {
   "cell_type": "code",
   "execution_count": 261,
   "metadata": {},
   "outputs": [
    {
     "data": {
      "image/png": "[encoded data removed]",
      "text/plain": [
       "<Figure size 640x480 with 1 Axes>"
      ]
     },
     "metadata": {},
     "output_type": "display_data"
    }
   ],
   "source": [
    "between_subjects_df[between_subjects_df['behavior_group']==1]['alert_index_score'].value_counts().sort_index().plot(kind='bar')\n",
    "plt.xlabel('Alert Index Score')\n",
    "plt.ylabel('Frequency')\n",
    "plt.title('Treatment group, Distribution of Values in Alert Index Score (n = '+str(len(between_subjects_df[between_subjects_df['behavior_group']==1]))+')')\n",
    "plt.ylim(0,6)\n",
    "plt.grid()"
   ]
  },
  {
   "cell_type": "code",
   "execution_count": 322,
   "metadata": {},
   "outputs": [
    {
     "name": "stdout",
     "output_type": "stream",
     "text": [
      "12.727272727272727\n",
      "13.0\n",
      "0.2727272727272734\n"
     ]
    }
   ],
   "source": [
    "a = between_subjects_df[between_subjects_df['behavior_group']==0]['alert_index_score'].mean()\n",
    "b = between_subjects_df[between_subjects_df['behavior_group']==1]['alert_index_score'].mean()\n",
    "print(a)\n",
    "print(b)\n",
    "print(b-a)"
   ]
  },
  {
   "cell_type": "code",
   "execution_count": 323,
   "metadata": {},
   "outputs": [
    {
     "name": "stdout",
     "output_type": "stream",
     "text": [
      "t = 0.34, p = 0.736\n"
     ]
    }
   ],
   "source": [
    "from scipy.stats import ttest_ind\n",
    "control_scores = between_subjects_df[between_subjects_df['behavior_group'] == 0]['alert_index_score']\n",
    "treatment_scores = between_subjects_df[between_subjects_df['behavior_group'] == 1]['alert_index_score']\n",
    "\n",
    "t_stat, p_val = ttest_ind(treatment_scores, control_scores, equal_var=False)\n",
    "print(f\"t = {t_stat:.2f}, p = {p_val:.3f}\")"
   ]
  },
  {
   "cell_type": "code",
   "execution_count": 327,
   "metadata": {},
   "outputs": [
    {
     "name": "stdout",
     "output_type": "stream",
     "text": [
      "t = 0.34, p = 0.736\n",
      "Mean difference (ATE): 0.273\n",
      "95% Confidence Interval: [-1.406, 1.952]\n"
     ]
    }
   ],
   "source": [
    "# Calculate t-test with unequal variances (Welch’s t-test)\n",
    "t_stat, p_val = ttest_ind(treatment_scores, control_scores,equal_var=False)\n",
    "\n",
    "# Degrees of freedom calculation manually (using formula for Welch's t-test)\n",
    "n1 = len(treatment_scores)\n",
    "n2 = len(control_scores)\n",
    "s1 = treatment_scores.var(ddof=1)\n",
    "s2 = control_scores.var(ddof=1)\n",
    "dof = (s1/n1 + s2/n2) ** 2 / (( (s1/n1) ** 2 / (n1-1)) + ((s2/n2) ** 2 / (n2-1)))\n",
    "\n",
    "# Calculate mean difference and standard error\n",
    "mean_diff = treatment_scores.mean() - control_scores.mean()\n",
    "se = np.sqrt(\n",
    "    treatment_scores.var(ddof=1) / len(treatment_scores) +\n",
    "    control_scores.var(ddof=1) / len(control_scores)\n",
    ")\n",
    "\n",
    "# 95% Confidence Interval\n",
    "ci_low = mean_diff - stats.t.ppf(0.975, dof) * se\n",
    "ci_high = mean_diff + stats.t.ppf(0.975, dof) * se\n",
    "\n",
    "print(f\"t = {t_stat:.2f}, p = {p_val:.3f}\")\n",
    "print(f\"Mean difference (ATE): {mean_diff:.3f}\")\n",
    "print(f\"95% Confidence Interval: [{ci_low:.3f}, {ci_high:.3f}]\")"
   ]
  },
  {
   "cell_type": "code",
   "execution_count": 262,
   "metadata": {},
   "outputs": [
    {
     "name": "stdout",
     "output_type": "stream",
     "text": [
      "Cohen's d: 0.16\n"
     ]
    }
   ],
   "source": [
    "control = between_subjects_df[between_subjects_df['behavior_group'] == 0]['alert_index_score']\n",
    "treatment = between_subjects_df[between_subjects_df['behavior_group'] == 1]['alert_index_score']\n",
    "\n",
    "# Calculate pooled standard deviation\n",
    "pooled_std = np.sqrt(((control.std() ** 2) + (treatment.std() ** 2)) / 2)\n",
    "\n",
    "# Calculate Cohen's d\n",
    "cohen_d = (treatment.mean() - control.mean()) / pooled_std\n",
    "print(f\"Cohen's d: {cohen_d:.2f}\")"
   ]
  },
  {
   "cell_type": "markdown",
   "metadata": {},
   "source": [
    "Control ATE = 12.7, Treatment ATE = 13.0, Treatment effect = 0.27, p-value not significant (0.74),Cohen's d = 0.16. Need at least 390 participants for 80% power. 95% CI: [-1.4, 2.0]"
   ]
  },
  {
   "cell_type": "code",
   "execution_count": null,
   "metadata": {},
   "outputs": [],
   "source": [
    "# Within subjects (paired differences) ITT analysis (n=11)\n",
    "# Looking at subjects that participated both days and their scores on day 1 and 2, regardless of if they complied or not"
   ]
  },
  {
   "cell_type": "code",
   "execution_count": 263,
   "metadata": {},
   "outputs": [
    {
     "data": {
      "text/plain": [
       "Index(['Timestamp', 'Name', 'Email', 'criteria_ind', 'wake_up_ts',\n",
       "       'drink_coffee_ts', 'hrs_since_woke', 'awake_answer', 'difficult_answer',\n",
       "       'physical_answer', 'num_cups_today', 'day_order', 'time_diff',\n",
       "       'coffee_compliant', 'two_day_participate', 'awake_score',\n",
       "       'difficult_score', 'physical_score', 'alert_index_score'],\n",
       "      dtype='object')"
      ]
     },
     "execution_count": 263,
     "metadata": {},
     "output_type": "execute_result"
    }
   ],
   "source": [
    "df.columns"
   ]
  },
  {
   "cell_type": "code",
   "execution_count": null,
   "metadata": {},
   "outputs": [
    {
     "data": {
      "text/plain": [
       "11"
      ]
     },
     "execution_count": 269,
     "metadata": {},
     "output_type": "execute_result"
    }
   ],
   "source": [
    "# creating dataframe for within subject comparison\n",
    "within_subjects_df = df[df['two_day_participate'] == 1]\n",
    "within_subjects_df[within_subjects_df['two_day_participate'] == 1]['Email'].nunique()"
   ]
  },
  {
   "cell_type": "code",
   "execution_count": 270,
   "metadata": {},
   "outputs": [
    {
     "data": {
      "text/plain": [
       "TtestResult(statistic=-0.3417430630867044, pvalue=0.7396171010263004, df=10)"
      ]
     },
     "execution_count": 270,
     "metadata": {},
     "output_type": "execute_result"
    }
   ],
   "source": [
    "within_subjects_df = df[df['two_day_participate'] == 1]\n",
    "\n",
    "pivoted = within_subjects_df.pivot(index='Email', columns='day_order', values='alert_index_score')\n",
    "pivoted.columns = ['control_score', 'treatment_score']\n",
    "pivoted = pivoted.dropna()\n",
    "\n",
    "from scipy.stats import ttest_rel\n",
    "ttest_rel(pivoted['treatment_score'], pivoted['control_score'])"
   ]
  },
  {
   "cell_type": "code",
   "execution_count": 285,
   "metadata": {},
   "outputs": [
    {
     "name": "stdout",
     "output_type": "stream",
     "text": [
      "95% CI for ATE: (-2.735, 2.007)\n"
     ]
    }
   ],
   "source": [
    "from scipy import stats\n",
    "# 95% Confidence Interval\n",
    "mean = pivoted['diff'].mean()\n",
    "sem = stats.sem(pivoted['diff'])\n",
    "ci = stats.t.interval(0.95, len(pivoted['diff'])-1, loc=mean, scale=sem)\n",
    "print(f\"95% CI for ATE: ({ci[0]:.3f}, {ci[1]:.3f})\")"
   ]
  },
  {
   "cell_type": "code",
   "execution_count": 276,
   "metadata": {},
   "outputs": [
    {
     "data": {
      "text/html": [
       "<div>\n",
       "<style scoped>\n",
       "    .dataframe tbody tr th:only-of-type {\n",
       "        vertical-align: middle;\n",
       "    }\n",
       "\n",
       "    .dataframe tbody tr th {\n",
       "        vertical-align: top;\n",
       "    }\n",
       "\n",
       "    .dataframe thead th {\n",
       "        text-align: right;\n",
       "    }\n",
       "</style>\n",
       "<table border=\"1\" class=\"dataframe\">\n",
       "  <thead>\n",
       "    <tr style=\"text-align: right;\">\n",
       "      <th></th>\n",
       "      <th>index</th>\n",
       "      <th>Email</th>\n",
       "      <th>control_score</th>\n",
       "      <th>treatment_score</th>\n",
       "    </tr>\n",
       "  </thead>\n",
       "  <tbody>\n",
       "    <tr>\n",
       "      <th>0</th>\n",
       "      <td>0</td>\n",
       "      <td>Aatifhshah@gmail.com</td>\n",
       "      <td>14</td>\n",
       "      <td>7</td>\n",
       "    </tr>\n",
       "    <tr>\n",
       "      <th>1</th>\n",
       "      <td>1</td>\n",
       "      <td>Derand237@gmail.com</td>\n",
       "      <td>9</td>\n",
       "      <td>10</td>\n",
       "    </tr>\n",
       "    <tr>\n",
       "      <th>2</th>\n",
       "      <td>2</td>\n",
       "      <td>aanisah.q@gmail.com</td>\n",
       "      <td>10</td>\n",
       "      <td>11</td>\n",
       "    </tr>\n",
       "    <tr>\n",
       "      <th>3</th>\n",
       "      <td>3</td>\n",
       "      <td>affan98@gmail.com</td>\n",
       "      <td>14</td>\n",
       "      <td>14</td>\n",
       "    </tr>\n",
       "    <tr>\n",
       "      <th>4</th>\n",
       "      <td>4</td>\n",
       "      <td>akshaynair.phoenix@gmail.com</td>\n",
       "      <td>12</td>\n",
       "      <td>13</td>\n",
       "    </tr>\n",
       "    <tr>\n",
       "      <th>5</th>\n",
       "      <td>5</td>\n",
       "      <td>cosmoplasma@gmail.com</td>\n",
       "      <td>11</td>\n",
       "      <td>11</td>\n",
       "    </tr>\n",
       "    <tr>\n",
       "      <th>6</th>\n",
       "      <td>6</td>\n",
       "      <td>cp_a2000@yahoo.com</td>\n",
       "      <td>12</td>\n",
       "      <td>9</td>\n",
       "    </tr>\n",
       "    <tr>\n",
       "      <th>7</th>\n",
       "      <td>7</td>\n",
       "      <td>essam.rao@gmail.com</td>\n",
       "      <td>12</td>\n",
       "      <td>14</td>\n",
       "    </tr>\n",
       "    <tr>\n",
       "      <th>8</th>\n",
       "      <td>8</td>\n",
       "      <td>mohsin@mohsinhaider.com</td>\n",
       "      <td>8</td>\n",
       "      <td>11</td>\n",
       "    </tr>\n",
       "    <tr>\n",
       "      <th>9</th>\n",
       "      <td>9</td>\n",
       "      <td>soph.ameen@gmail.com</td>\n",
       "      <td>9</td>\n",
       "      <td>13</td>\n",
       "    </tr>\n",
       "    <tr>\n",
       "      <th>10</th>\n",
       "      <td>10</td>\n",
       "      <td>yezhengrong1992@gmail.com</td>\n",
       "      <td>12</td>\n",
       "      <td>6</td>\n",
       "    </tr>\n",
       "  </tbody>\n",
       "</table>\n",
       "</div>"
      ],
      "text/plain": [
       "    index                         Email  control_score  treatment_score\n",
       "0       0          Aatifhshah@gmail.com             14                7\n",
       "1       1           Derand237@gmail.com              9               10\n",
       "2       2           aanisah.q@gmail.com             10               11\n",
       "3       3             affan98@gmail.com             14               14\n",
       "4       4  akshaynair.phoenix@gmail.com             12               13\n",
       "5       5         cosmoplasma@gmail.com             11               11\n",
       "6       6            cp_a2000@yahoo.com             12                9\n",
       "7       7           essam.rao@gmail.com             12               14\n",
       "8       8       mohsin@mohsinhaider.com              8               11\n",
       "9       9          soph.ameen@gmail.com              9               13\n",
       "10     10     yezhengrong1992@gmail.com             12                6"
      ]
     },
     "execution_count": 276,
     "metadata": {},
     "output_type": "execute_result"
    }
   ],
   "source": [
    "pivoted.reset_index(inplace=True)\n",
    "pivoted"
   ]
  },
  {
   "cell_type": "code",
   "execution_count": 281,
   "metadata": {},
   "outputs": [
    {
     "name": "stdout",
     "output_type": "stream",
     "text": [
      "11.181818181818182\n",
      "10.818181818181818\n",
      "ATE (within-subjects): -0.364\n"
     ]
    }
   ],
   "source": [
    "pivoted['diff'] = pivoted['treatment_score'] - pivoted['control_score']\n",
    "ate = pivoted['diff'].mean()\n",
    "print(pivoted['control_score'].mean())\n",
    "print(pivoted['treatment_score'].mean())\n",
    "print(f\"ATE (within-subjects): {ate:.3f}\")"
   ]
  },
  {
   "cell_type": "code",
   "execution_count": 279,
   "metadata": {},
   "outputs": [
    {
     "name": "stdout",
     "output_type": "stream",
     "text": [
      "Cohen's d: -0.15\n"
     ]
    }
   ],
   "source": [
    "control = within_subjects_df[within_subjects_df['day_order'] == 1]['alert_index_score']\n",
    "treatment = within_subjects_df[within_subjects_df['day_order'] == 2]['alert_index_score']\n",
    "\n",
    "# Calculate pooled standard deviation\n",
    "pooled_std = np.sqrt(((control.std() ** 2) + (treatment.std() ** 2)) / 2)\n",
    "\n",
    "# Calculate Cohen's d\n",
    "cohen_d = (treatment.mean() - control.mean()) / pooled_std\n",
    "print(f\"Cohen's d: {cohen_d:.2f}\")"
   ]
  },
  {
   "cell_type": "markdown",
   "metadata": {},
   "source": [
    "Control ATE = 11.1, Treatment ATE = 10.8, Treatment effect = -0.37, p-value not significant (0.74),Cohen's d = -0.15. Need at least 390-400 participants for 80% power. 95% CI for ATE: (-2.735, 2.007)"
   ]
  },
  {
   "cell_type": "code",
   "execution_count": null,
   "metadata": {},
   "outputs": [],
   "source": [
    "# CACE analysis\n",
    "# Looking at subjects that actually complied with the study for both days"
   ]
  },
  {
   "cell_type": "code",
   "execution_count": 310,
   "metadata": {},
   "outputs": [],
   "source": [
    "compliers_df = within_subjects_df[\n",
    "    (within_subjects_df['two_day_participate'] == 1) &\n",
    "    (within_subjects_df['coffee_compliant'] == 1)\n",
    "]\n",
    "\n",
    "pivoted_cace = compliers_df.pivot(index='Email', columns='day_order', values='alert_index_score')\n",
    "pivoted_cace.columns = ['control_day', 'treatment_day']"
   ]
  },
  {
   "cell_type": "code",
   "execution_count": 311,
   "metadata": {},
   "outputs": [
    {
     "name": "stdout",
     "output_type": "stream",
     "text": [
      "8\n"
     ]
    },
    {
     "data": {
      "text/html": [
       "<div>\n",
       "<style scoped>\n",
       "    .dataframe tbody tr th:only-of-type {\n",
       "        vertical-align: middle;\n",
       "    }\n",
       "\n",
       "    .dataframe tbody tr th {\n",
       "        vertical-align: top;\n",
       "    }\n",
       "\n",
       "    .dataframe thead th {\n",
       "        text-align: right;\n",
       "    }\n",
       "</style>\n",
       "<table border=\"1\" class=\"dataframe\">\n",
       "  <thead>\n",
       "    <tr style=\"text-align: right;\">\n",
       "      <th></th>\n",
       "      <th>Email</th>\n",
       "      <th>control_day</th>\n",
       "      <th>treatment_day</th>\n",
       "    </tr>\n",
       "  </thead>\n",
       "  <tbody>\n",
       "    <tr>\n",
       "      <th>0</th>\n",
       "      <td>Aatifhshah@gmail.com</td>\n",
       "      <td>14.0</td>\n",
       "      <td>7.0</td>\n",
       "    </tr>\n",
       "    <tr>\n",
       "      <th>1</th>\n",
       "      <td>Derand237@gmail.com</td>\n",
       "      <td>9.0</td>\n",
       "      <td>10.0</td>\n",
       "    </tr>\n",
       "    <tr>\n",
       "      <th>3</th>\n",
       "      <td>affan98@gmail.com</td>\n",
       "      <td>14.0</td>\n",
       "      <td>14.0</td>\n",
       "    </tr>\n",
       "    <tr>\n",
       "      <th>4</th>\n",
       "      <td>akshaynair.phoenix@gmail.com</td>\n",
       "      <td>12.0</td>\n",
       "      <td>13.0</td>\n",
       "    </tr>\n",
       "    <tr>\n",
       "      <th>5</th>\n",
       "      <td>cosmoplasma@gmail.com</td>\n",
       "      <td>11.0</td>\n",
       "      <td>11.0</td>\n",
       "    </tr>\n",
       "    <tr>\n",
       "      <th>7</th>\n",
       "      <td>essam.rao@gmail.com</td>\n",
       "      <td>12.0</td>\n",
       "      <td>14.0</td>\n",
       "    </tr>\n",
       "    <tr>\n",
       "      <th>8</th>\n",
       "      <td>mohsin@mohsinhaider.com</td>\n",
       "      <td>8.0</td>\n",
       "      <td>11.0</td>\n",
       "    </tr>\n",
       "    <tr>\n",
       "      <th>10</th>\n",
       "      <td>yezhengrong1992@gmail.com</td>\n",
       "      <td>12.0</td>\n",
       "      <td>6.0</td>\n",
       "    </tr>\n",
       "  </tbody>\n",
       "</table>\n",
       "</div>"
      ],
      "text/plain": [
       "                           Email  control_day  treatment_day\n",
       "0           Aatifhshah@gmail.com         14.0            7.0\n",
       "1            Derand237@gmail.com          9.0           10.0\n",
       "3              affan98@gmail.com         14.0           14.0\n",
       "4   akshaynair.phoenix@gmail.com         12.0           13.0\n",
       "5          cosmoplasma@gmail.com         11.0           11.0\n",
       "7            essam.rao@gmail.com         12.0           14.0\n",
       "8        mohsin@mohsinhaider.com          8.0           11.0\n",
       "10     yezhengrong1992@gmail.com         12.0            6.0"
      ]
     },
     "execution_count": 311,
     "metadata": {},
     "output_type": "execute_result"
    }
   ],
   "source": [
    "# need to drop those that were not compliant - 8 out of 11 were compliant both days\n",
    "pivoted_cace.reset_index(inplace=True)\n",
    "pivoted_cace = pivoted_cace.dropna()\n",
    "print(len(pivoted_cace))\n",
    "pivoted_cace"
   ]
  },
  {
   "cell_type": "code",
   "execution_count": 367,
   "metadata": {},
   "outputs": [
    {
     "name": "stdout",
     "output_type": "stream",
     "text": [
      "CACE ATE (Treatment - Control among compliers): -0.750\n"
     ]
    }
   ],
   "source": [
    "pivoted_cace['diff'] = pivoted_cace['treatment_day'] - pivoted_cace['control_day']\n",
    "ate_cace = pivoted_cace['diff'].mean()\n",
    "print(f\"CACE ATE (Treatment - Control among compliers): {ate_cace:.3f}\")"
   ]
  },
  {
   "cell_type": "code",
   "execution_count": 313,
   "metadata": {},
   "outputs": [
    {
     "name": "stdout",
     "output_type": "stream",
     "text": [
      "TtestResult(statistic=-0.5743195381816405, pvalue=0.5837274624442594, df=7)\n",
      "95% CI for ATE: (-3.838, 2.338)\n"
     ]
    }
   ],
   "source": [
    "print(ttest_rel(pivoted_cace['treatment_day'], pivoted_cace['control_day']))\n",
    "\n",
    "# 95% Confidence Interval\n",
    "mean = pivoted_cace['diff'].mean()\n",
    "sem = stats.sem(pivoted_cace['diff'])\n",
    "ci = stats.t.interval(0.95, len(pivoted_cace['diff'])-1, loc=mean, scale=sem)\n",
    "print(f\"95% CI for ATE: ({ci[0]:.3f}, {ci[1]:.3f})\")"
   ]
  },
  {
   "cell_type": "code",
   "execution_count": 366,
   "metadata": {},
   "outputs": [
    {
     "name": "stdout",
     "output_type": "stream",
     "text": [
      "10.75\n",
      "11.5\n"
     ]
    }
   ],
   "source": [
    "print(pivoted_cace['treatment_day'].mean())\n",
    "print(pivoted_cace['control_day'].mean())"
   ]
  },
  {
   "cell_type": "code",
   "execution_count": 329,
   "metadata": {},
   "outputs": [
    {
     "name": "stdout",
     "output_type": "stream",
     "text": [
      "Cohen's d: 0.29\n"
     ]
    }
   ],
   "source": [
    "control = pivoted_cace['treatment_day']\n",
    "treatment = pivoted_cace['control_day']\n",
    "\n",
    "# Calculate pooled standard deviation\n",
    "pooled_std = np.sqrt(((control.std() ** 2) + (treatment.std() ** 2)) / 2)\n",
    "\n",
    "# Calculate Cohen's d\n",
    "cohen_d = (treatment.mean() - control.mean()) / pooled_std\n",
    "print(f\"Cohen's d: {cohen_d:.2f}\")"
   ]
  },
  {
   "cell_type": "markdown",
   "metadata": {},
   "source": [
    "Control ATE = 11.5, Treatment ATE = 10.8, Treatment effect = -0.75, p-value not significant (0.58),Cohen's d = 0.29. Need at least 375 participants for 80% power. 95% CI for ATE: (-3.838, 2.338)"
   ]
  },
  {
   "cell_type": "code",
   "execution_count": null,
   "metadata": {},
   "outputs": [],
   "source": []
  },
  {
   "cell_type": "code",
   "execution_count": null,
   "metadata": {},
   "outputs": [],
   "source": [
    "# Regression analysis"
   ]
  },
  {
   "cell_type": "code",
   "execution_count": 330,
   "metadata": {},
   "outputs": [
    {
     "data": {
      "text/plain": [
       "Index(['Timestamp', 'Name', 'Email', 'criteria_ind', 'wake_up_ts',\n",
       "       'drink_coffee_ts', 'hrs_since_woke', 'awake_answer', 'difficult_answer',\n",
       "       'physical_answer', 'num_cups_today', 'day_order', 'time_diff',\n",
       "       'coffee_compliant', 'two_day_participate', 'awake_score',\n",
       "       'difficult_score', 'physical_score', 'alert_index_score'],\n",
       "      dtype='object')"
      ]
     },
     "execution_count": 330,
     "metadata": {},
     "output_type": "execute_result"
    }
   ],
   "source": [
    "df.columns"
   ]
  },
  {
   "cell_type": "code",
   "execution_count": 331,
   "metadata": {},
   "outputs": [],
   "source": [
    "# between subjects regression"
   ]
  },
  {
   "cell_type": "code",
   "execution_count": 347,
   "metadata": {},
   "outputs": [
    {
     "data": {
      "text/plain": [
       "Index(['Timestamp', 'Name', 'Email', 'criteria_ind', 'wake_up_ts',\n",
       "       'drink_coffee_ts', 'hrs_since_woke', 'awake_answer', 'difficult_answer',\n",
       "       'physical_answer', 'num_cups_today', 'day_order', 'time_diff',\n",
       "       'coffee_compliant', 'two_day_participate', 'awake_score',\n",
       "       'difficult_score', 'physical_score', 'alert_index_score',\n",
       "       'behavior_group', 'num_cups_today_regression'],\n",
       "      dtype='object')"
      ]
     },
     "execution_count": 347,
     "metadata": {},
     "output_type": "execute_result"
    }
   ],
   "source": [
    "between_subjects_df.columns"
   ]
  },
  {
   "cell_type": "code",
   "execution_count": 348,
   "metadata": {},
   "outputs": [
    {
     "data": {
      "text/plain": [
       "behavior_group\n",
       "0    11\n",
       "1     8\n",
       "Name: count, dtype: int64"
      ]
     },
     "execution_count": 348,
     "metadata": {},
     "output_type": "execute_result"
    }
   ],
   "source": [
    "between_subjects_df['behavior_group'].value_counts()"
   ]
  },
  {
   "cell_type": "code",
   "execution_count": 354,
   "metadata": {},
   "outputs": [
    {
     "name": "stdout",
     "output_type": "stream",
     "text": [
      "                            OLS Regression Results                            \n",
      "==============================================================================\n",
      "Dep. Variable:      alert_index_score   R-squared:                       0.068\n",
      "Model:                            OLS   Adj. R-squared:                 -0.198\n",
      "Method:                 Least Squares   F-statistic:                    0.2549\n",
      "Date:                Sun, 20 Apr 2025   Prob (F-statistic):              0.902\n",
      "Time:                        22:03:12   Log-Likelihood:                -36.307\n",
      "No. Observations:                  19   AIC:                             82.61\n",
      "Df Residuals:                      14   BIC:                             87.34\n",
      "Df Model:                           4                                         \n",
      "Covariance Type:            nonrobust                                         \n",
      "==================================================================================\n",
      "                     coef    std err          t      P>|t|      [0.025      0.975]\n",
      "----------------------------------------------------------------------------------\n",
      "const             13.5381      1.301     10.407      0.000      10.748      16.328\n",
      "hrs_since_woke    -0.1682      0.188     -0.892      0.387      -0.572       0.236\n",
      "behavior_group     0.4438      0.935      0.475      0.642      -1.561       2.449\n",
      "num_cups_2.0       0.4532      1.036      0.438      0.668      -1.768       2.674\n",
      "num_cups_3.0       0.4709      1.528      0.308      0.763      -2.807       3.749\n",
      "==============================================================================\n",
      "Omnibus:                        0.684   Durbin-Watson:                   2.008\n",
      "Prob(Omnibus):                  0.710   Jarque-Bera (JB):                0.723\n",
      "Skew:                          -0.313   Prob(JB):                        0.697\n",
      "Kurtosis:                       2.277   Cond. No.                         26.0\n",
      "==============================================================================\n",
      "\n",
      "Notes:\n",
      "[1] Standard Errors assume that the covariance matrix of the errors is correctly specified.\n"
     ]
    }
   ],
   "source": [
    "#  2. Clean the 'num_cups_today' column to extract the number\n",
    "between_subjects_df['num_cups_today_clean'] = (\n",
    "    between_subjects_df['num_cups_today']\n",
    "    .str.extract(r'(\\d+)')    # Extract numeric part\n",
    "    .astype(float)            # Convert to float to handle NaNs\n",
    ")\n",
    "\n",
    "# 3. Create dummy variables (categorical predictor)\n",
    "# Reference category will be 1 cup\n",
    "cups_dummies = pd.get_dummies(\n",
    "    between_subjects_df['num_cups_today_clean'],\n",
    "    prefix='num_cups',\n",
    "    drop_first=True\n",
    ")\n",
    "\n",
    "# 4. Combine predictors into a design matrix\n",
    "X = pd.concat([\n",
    "    between_subjects_df[['hrs_since_woke', 'behavior_group']],  # Numeric predictors\n",
    "    cups_dummies                                            # Dummy variables\n",
    "], axis=1)\n",
    "\n",
    "# Convert all bool columns in X to int\n",
    "X = X.astype({col: int for col in X.select_dtypes(include='bool').columns})\n",
    "\n",
    "# Add constant for intercept\n",
    "X = sm.add_constant(X)\n",
    "\n",
    "# 5. Define the dependent variable\n",
    "y = between_subjects_df['alert_index_score']\n",
    "\n",
    "# 6. Fit the regression model\n",
    "model = sm.OLS(y, X, missing='drop').fit()\n",
    "\n",
    "# 7. View results\n",
    "print(model.summary())\n",
    "\n"
   ]
  },
  {
   "cell_type": "code",
   "execution_count": 139,
   "metadata": {},
   "outputs": [
    {
     "name": "stdout",
     "output_type": "stream",
     "text": [
      "Collecting graphviz\n",
      "  Downloading graphviz-0.20.3-py3-none-any.whl.metadata (12 kB)\n",
      "Downloading graphviz-0.20.3-py3-none-any.whl (47 kB)\n",
      "   ---------------------------------------- 0.0/47.1 kB ? eta -:--:--\n",
      "   ---------------------------------------- 0.0/47.1 kB ? eta -:--:--\n",
      "   ----------------- ---------------------- 20.5/47.1 kB 330.3 kB/s eta 0:00:01\n",
      "   ---------------------------------- ----- 41.0/47.1 kB 393.8 kB/s eta 0:00:01\n",
      "   ---------------------------------- ----- 41.0/47.1 kB 393.8 kB/s eta 0:00:01\n",
      "   ---------------------------------------- 47.1/47.1 kB 261.6 kB/s eta 0:00:00\n",
      "Installing collected packages: graphviz\n",
      "Successfully installed graphviz-0.20.3\n"
     ]
    },
    {
     "name": "stderr",
     "output_type": "stream",
     "text": [
      "\n",
      "[notice] A new release of pip is available: 24.0 -> 25.0.1\n",
      "[notice] To update, run: C:\\Users\\fquad\\AppData\\Local\\Microsoft\\WindowsApps\\PythonSoftwareFoundation.Python.3.11_qbz5n2kfra8p0\\python.exe -m pip install --upgrade pip\n"
     ]
    }
   ],
   "source": [
    "!pip install graphviz"
   ]
  }
 ],
 "metadata": {
  "kernelspec": {
   "display_name": "Python 3",
   "language": "python",
   "name": "python3"
  },
  "language_info": {
   "codemirror_mode": {
    "name": "ipython",
    "version": 3
   },
   "file_extension": ".py",
   "mimetype": "text/x-python",
   "name": "python",
   "nbconvert_exporter": "python",
   "pygments_lexer": "ipython3",
   "version": "3.11.9"
  }
 },
 "nbformat": 4,
 "nbformat_minor": 2
}
